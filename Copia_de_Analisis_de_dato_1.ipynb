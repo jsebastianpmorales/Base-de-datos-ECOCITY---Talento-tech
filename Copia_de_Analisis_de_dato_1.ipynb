{
  "nbformat": 4,
  "nbformat_minor": 0,
  "metadata": {
    "colab": {
      "provenance": []
    },
    "kernelspec": {
      "name": "python3",
      "display_name": "Python 3"
    },
    "language_info": {
      "name": "python"
    }
  },
  "cells": [
    {
      "cell_type": "code",
      "execution_count": null,
      "metadata": {
        "id": "KvQv_Ny7oCrk",
        "colab": {
          "base_uri": "https://localhost:8080/"
        },
        "outputId": "1063568c-a477-4241-e67e-09cabfbcedca"
      },
      "outputs": [
        {
          "output_type": "stream",
          "name": "stdout",
          "text": [
            "ingrese el primer numero? 6\n",
            "ingrese el segundo numero? 9\n",
            "15.0\n"
          ]
        }
      ],
      "source": [
        "primer_numero = float(input(\"ingrese el primer numero? \"))\n",
        "segundo_numero = float(input(\"ingrese el segundo numero? \"))\n",
        "\n",
        "resultado = primer_numero + segundo_numero\n",
        "\n",
        "print(resultado)\n"
      ]
    },
    {
      "cell_type": "code",
      "source": [
        "# llamo la libreri math para acceder a mas funciones\n",
        "import math\n",
        "\n",
        "print(\"HALLAR LA DISTANCIA ENTRE DOS COORDENADAS.\")\n",
        "\n",
        "print(\"\\n-------------------------\")\n",
        "X1 = float(input(\"ingrese el valor X1: \"))\n",
        "Y1 = float(input(\"ingrese el valor Y1: \"))\n",
        "X2 = float(input(\"ingrese el valor X2: \"))\n",
        "Y2 = float(input(\"ingrese el valor Y2: \"))\n",
        "print(\"-------------------------\")\n",
        "\n",
        "dist_horizontal = abs(X1 - X2) # abs sirve para sacar el valor absoluto\n",
        "dist_vertical = abs(Y1 - Y2)\n",
        "Discriminante = math.pow(dist_horizontal,2) + math.pow(dist_vertical,2) # la funcion pow eleva la variable\n",
        "Distancia = math.sqrt(Discriminante) # La función sqrt saca la raiz cuadrada\n",
        "\n",
        "print(f\"El resultado es: \\n {Distancia:.2f}\")\n"
      ],
      "metadata": {
        "colab": {
          "base_uri": "https://localhost:8080/"
        },
        "id": "nFldAO6avxzv",
        "outputId": "c03ee368-d9d9-4732-c4f0-97c75efb7a1e"
      },
      "execution_count": null,
      "outputs": [
        {
          "output_type": "stream",
          "name": "stdout",
          "text": [
            "HALLAR LA DISTANCIA ENTRE DOS COORDENADAS.\n",
            "\n",
            "-------------------------\n",
            "ingrese el valor X1: 2\n",
            "ingrese el valor X2: 9\n",
            "ingrese el valor Y1: 1\n",
            "ingrese el valor Y2: 4\n",
            "-------------------------\n",
            "El resultado es: \n",
            " 7.62\n"
          ]
        }
      ]
    },
    {
      "cell_type": "code",
      "source": [
        "print(\"HALLAR LA DISTANCIA ENTRE DOS COORDENASAS.\")\n",
        "\n",
        "print(\"\\n-------------------------\")\n",
        "X1 = float(input(\"ingrese el valor X1: \"))\n",
        "X2 = float(input(\"ingrese el valor X2: \"))\n",
        "Y1 = float(input(\"ingrese el valor Y1: \"))\n",
        "Y2 = float(input(\"ingrese el valor Y2: \"))\n",
        "print(f\"LAS CORDENADAS SON: ({int(X1)},{int(Y1)}) - ({int(X2)},{int(Y2)})\")\n",
        "print(\"-------------------------\")\n",
        "\n",
        "dist_horizontal = abs(X1 - X2) # abs sirve para sacar el valor absoluto\n",
        "dist_vertical = abs(Y1 - Y2)\n",
        "Distancia = (dist_horizontal**2 + dist_vertical**2)**(1/2)\n",
        "\n",
        "print(\"\\nLa distancia entre las dos coordena es:\")\n",
        "print(\" * \",Distancia)\n"
      ],
      "metadata": {
        "colab": {
          "base_uri": "https://localhost:8080/"
        },
        "id": "mh5XXsoEg7uV",
        "outputId": "218f0475-01e5-4166-8219-fb365bec27c0"
      },
      "execution_count": null,
      "outputs": [
        {
          "output_type": "stream",
          "name": "stdout",
          "text": [
            "HALLAR LA DISTANCIA ENTRE DOS COORDENASAS.\n",
            "\n",
            "-------------------------\n",
            "ingrese el valor X1: 7\n",
            "ingrese el valor X2: 09\n",
            "ingrese el valor Y1: 90\n",
            "ingrese el valor Y2: 9\n",
            "LAS CORDENADAS SON: (7,90.0) - (9,9)\n",
            "-------------------------\n",
            "\n",
            "La distancia entre las dos coordena es:\n",
            " *  81.02468759581859\n"
          ]
        }
      ]
    },
    {
      "cell_type": "code",
      "source": [
        "# JuanP\n",
        "import math\n",
        "\n",
        "#Ecuación para formula caudratica\n",
        "\n",
        "a = float(input(\"Ingrese el valor de a: \"))\n",
        "b = float(input(\"Ingrese el valor de b: \"))\n",
        "c = float(input(\"Ingrese el valor de c: \"))\n",
        "\n",
        "discriminante = math.pow(b, 2) - (4 * a * c)\n",
        "\n",
        "if discriminante < 0:\n",
        "    print(\"La ecuación no tiene solución Real\")\n",
        "else:\n",
        "    if a == 0:\n",
        "        print(\"Error divsion por 0\")\n",
        "    else:\n",
        "        raiz = math.sqrt(discriminante)\n",
        "        x_1 = (- b + raiz) / (2 * a)\n",
        "        x_2 = (- b - raiz) / (2 * a)\n",
        "        print(f\" x1 = {x_1} - x2 = {x_2} \")"
      ],
      "metadata": {
        "colab": {
          "base_uri": "https://localhost:8080/"
        },
        "collapsed": true,
        "id": "mSfgI02b2iSu",
        "outputId": "0f5b9eab-0a32-4f2c-8464-88b924f9ac80"
      },
      "execution_count": null,
      "outputs": [
        {
          "output_type": "stream",
          "name": "stdout",
          "text": [
            "Ingrese el valor de a: 5\n",
            "Ingrese el valor de b: 3\n",
            "Ingrese el valor de c: 9\n",
            "La ecuación no tiene solución Real\n"
          ]
        }
      ]
    },
    {
      "cell_type": "code",
      "source": [
        "# JuanP\n",
        "\n",
        "valor_factura = int(input(\"Ingrese el valor de la factura: \"))\n",
        "agua_consumida = int(input(\"Ingrese la cantidad de consumo de agua: \"))\n",
        "promedio_agua = int(input(\"Ingrese el promedio de consumo de agua: \"))\n",
        "\n",
        "if agua_consumida > promedio_agua:\n",
        "    diferencia_factura = valor_factura * 1.05\n",
        "    print(f\" La cantidad a pagar es: {diferencia_factura}\")\n",
        "\n",
        "if agua_consumida < promedio_agua:\n",
        "    diferencia_fatura = valor_factura * 0.93\n",
        "    print(f\" La cantidad a pagar es: {diferencia_factura}\")\n",
        "\n",
        "if agua_consumida == promedio_agua:\n",
        "    diferencia_factura = valor_factura\n",
        "    print(f\" La cantidad a pagar es: {diferencia_factura}\")\n",
        "\n",
        "#print(f\"La factura {valor_factura}, tiene una modificación de {diferencia_factura}\")\n"
      ],
      "metadata": {
        "colab": {
          "base_uri": "https://localhost:8080/"
        },
        "id": "sUTG1NoAIaUd",
        "outputId": "aa8c1e5d-062a-432c-f2e2-35f0152b0426"
      },
      "execution_count": null,
      "outputs": [
        {
          "output_type": "stream",
          "name": "stdout",
          "text": [
            "Ingrese el valor de la factura: 4\n",
            "Ingrese la cantidad de consumo de agua: 5\n",
            "Ingrese el promedio de consumo de agua: 5\n",
            " La cantidad a pagar es: 4\n"
          ]
        }
      ]
    },
    {
      "cell_type": "code",
      "source": [
        "import math\n",
        "print(\"PROGRAMA PARA RESOLVER UNA ECUACIÓN\")\n",
        "\n",
        "print(\"-----------------------------------------------\")\n",
        "a = float(input(\"ingrese el valor a: \"))\n",
        "b = float(input(\"ingrese el valor b: \"))\n",
        "c = float(input(\"ingrese el valor c: \"))\n",
        "print(f\"{int(a)}X^2 + {int(b)}X + {int(c)}\")\n",
        "print(\"-------------------------------------------3----\")\n",
        "\n",
        "discriminante = math.pow(b,2)-(4*a*b)\n",
        "raiz = math.sqrt(discriminante)\n",
        "numerador = -b\n",
        "denominador = 2 * a\n",
        "formula_x_1 = (numerador + raiz)/(denominador)\n",
        "formula_x_2 = (numerador - raiz)/(denominador)\n",
        "print(\"\\nLA SOLUCIÓN ES: \")\n",
        "print(f\"        X1 = {formula_x_1}        X2 = {formula_x_2}\")\n",
        "\n",
        "\n"
      ],
      "metadata": {
        "colab": {
          "base_uri": "https://localhost:8080/"
        },
        "id": "D3BJBJfgpSwJ",
        "outputId": "17d59656-538e-4900-b5ff-5372fad6d42d"
      },
      "execution_count": null,
      "outputs": [
        {
          "output_type": "stream",
          "name": "stdout",
          "text": [
            "PROGRAMA PARA RESOLVER UNA ECUACIÓN\n",
            "-----------------------------------------------\n",
            "ingrese el valor a: 1\n",
            "ingrese el valor b: 4\n",
            "ingrese el valor c: 3\n",
            "1X^2 + 4X + 3\n",
            "-------------------------------------------3----\n",
            "\n",
            "LA SOLUCIÓN ES: \n",
            "        X1 = -2.0        X2 = -2.0\n"
          ]
        }
      ]
    },
    {
      "cell_type": "code",
      "source": [
        "valor_factura = int(input(\"Ingrese el valor de la factura: \"))\n",
        "agua_consumida = int(input(\"Ingrese la cantidad de consumo de agua: \"))\n",
        "promedio_agua = int(input(\"Ingrese el promedio de consumo de agua: \"))\n",
        "\n",
        "if agua_consumida > promedio_agua:\n",
        "    diferencia_factura = valor_factura * 1.05\n",
        "    diferencia = \"Aumento\"\n",
        "\n",
        "elif agua_consumida < promedio_agua:\n",
        "    diferencia_fatura = valor_factura * 0.93\n",
        "    diferencia = \"Disminuye\"\n",
        "\n",
        "elif agua_consumida == promedio_agua:\n",
        "    diferencia_factura = valor_factura\n",
        "    diferencia = \"No cambio\"\n",
        "\n",
        "print(f\"La factura {valor_factura}, tiene una modificación de {diferencia}, con un valor de: {diferencia_factura}\")"
      ],
      "metadata": {
        "colab": {
          "base_uri": "https://localhost:8080/"
        },
        "id": "VYPAO8qCqQ-e",
        "outputId": "9a006fcf-0a18-43d9-d8c4-99db9613e70c"
      },
      "execution_count": null,
      "outputs": [
        {
          "output_type": "stream",
          "name": "stdout",
          "text": [
            "Ingrese el valor de la factura: 50000\n",
            "Ingrese la cantidad de consumo de agua: 43000\n",
            "Ingrese el promedio de consumo de agua: 40000\n",
            "La factura 50000, tiene una modificación de Aumento, con un valor de: 52500.0\n"
          ]
        }
      ]
    },
    {
      "cell_type": "code",
      "source": [
        "# Area de figuaras JuanP\n",
        "import math\n",
        "\n",
        "\n",
        "print(\"Programa para hallar el area de las figuras. \")\n",
        "\n",
        "print(\"\\n ¿Que fugura desea hallar? \\n\")\n",
        "opcion = int(input(\"\\n 1. Rectangulo \\n 2. Circulo \\n 3. Cuadrado \\n 4. Triangulo \\n \\n Selecciona: \"))\n",
        "\n",
        "if opcion == 1:\n",
        "    base = int(input(\"Ingrese la base del rectangulo: \"))\n",
        "    altura = int(input(\"Ingrese la altura del rectangulo: \"))\n",
        "    area = base * altura\n",
        "    resultado = area\n",
        "\n",
        "elif opcion== 2:\n",
        "    radio = int(input(\"Ingrese el radio del circulo: \"))\n",
        "    area = 3.14 * radio**2\n",
        "    resultado = area\n",
        "\n",
        "elif opcion == 3:\n",
        "    lado = int(input(\"Ingrese el lado del cuadrado: \"))\n",
        "    area = lado**2\n",
        "    resultado = area\n",
        "\n",
        "elif opcion == 4:\n",
        "    base = int(input(\"Ingrese la base del triangulo: \"))\n",
        "    altura = int(input(\"Ingrese la altura del triangulo: \"))\n",
        "    area = (base * altura)/2\n",
        "    resultado = area\n",
        "\n",
        "else:\n",
        "    resultado = 0\n",
        "    print(\"La opcion seleccionada no es valida\")\n",
        "\n",
        "print(f\"El area de la figura seleccionada es: {resultado}\")"
      ],
      "metadata": {
        "colab": {
          "base_uri": "https://localhost:8080/"
        },
        "id": "HR-Y81VxxbQp",
        "outputId": "f3f1ae73-8636-4d71-f837-b3e36b980163"
      },
      "execution_count": null,
      "outputs": [
        {
          "output_type": "stream",
          "name": "stdout",
          "text": [
            "Programa para hallar el area de las figuras. \n",
            "\n",
            " ¿Que fugura desea hallar? \n",
            "\n",
            "\n",
            " 1. Rectangulo \n",
            " 2. Circulo \n",
            " 3. Cuadrado \n",
            " 4. Triangulo \n",
            " \n",
            " Selecciona: 5\n",
            "La opcion seleccionada no es valida\n",
            "El area de la figura seleccionada es: 0\n"
          ]
        }
      ]
    },
    {
      "cell_type": "code",
      "source": [
        "# Area de figuaras JuanP\n",
        "import math\n",
        "\n",
        "\n",
        "print(\"Programa para hallar el area de las figuras. \")\n",
        "\n",
        "print(\"\\n ¿Que fugura desea hallar? \\n\")\n",
        "opcion = int(input(\"\\n 1. Rectangulo \\n 2. Circulo \\n 3. Cuadrado \\n 4. Triangulo \\n \\n Selecciona: \"))\n",
        "\n",
        "if opcion == 1:\n",
        "    base = int(input(\"Ingrese la base del rectangulo: \"))\n",
        "    altura = int(input(\"Ingrese la altura del rectangulo: \"))\n",
        "    area = base * altura\n",
        "    resultado = area\n",
        "\n",
        "elif opcion == 2:\n",
        "    radio = int(input(\"Ingrese el radio del circulo: \"))\n",
        "    area = math.pi * math.pow(radio, 2)\n",
        "    resultado = area\n",
        "\n",
        "elif opcion == 3:\n",
        "    lado = int(input(\"Ingrese el lado del cuadrado: \"))\n",
        "    area = math.pow(lado, 2)\n",
        "    resultado = area\n",
        "\n",
        "elif opcion == 4:\n",
        "    base = int(input(\"Ingrese la base del triangulo: \"))\n",
        "    altura = int(input(\"Ingrese la altura del triangulo: \"))\n",
        "    area = (base * altura)/2\n",
        "    resultado = area\n",
        "\n",
        "else:\n",
        "    resultado = 0\n",
        "    print(\"La opcion seleccionada no es valida\")\n",
        "\n",
        "print(f\"El area de la figura seleccionada es: {resultado:.2f}\")"
      ],
      "metadata": {
        "id": "rKCWiZWR85ZJ"
      },
      "execution_count": null,
      "outputs": []
    },
    {
      "cell_type": "code",
      "source": [
        "# Area de figuaras JuanP\n",
        "import math\n",
        "\n",
        "\n",
        "print(\"Programa para hallar el area de las figuras. \")\n",
        "\n",
        "print(\"\\n ¿Que fugura desea hallar? \\n\")\n",
        "opcion = int(input(\"\\n 1. Rectangulo \\n 2. Circulo \\n 3. Cuadrado \\n 4. Triangulo \\n \\n Selecciona: \"))\n",
        "\n",
        "if opcion == 1:\n",
        "    base = int(input(\"Ingrese la base del rectangulo: \"))\n",
        "    altura = int(input(\"Ingrese la altura del rectangulo: \"))\n",
        "    area = base * altura\n",
        "\n",
        "elif opcion == 2:\n",
        "    radio = int(input(\"Ingrese el radio del circulo: \"))\n",
        "    area = math.pi * math.pow(radio, 2)\n",
        "\n",
        "elif opcion == 3:\n",
        "    lado = int(input(\"Ingrese el lado del cuadrado: \"))\n",
        "    area = math.pow(lado, 2)\n",
        "\n",
        "elif opcion == 4:\n",
        "    base = int(input(\"Ingrese la base del triangulo: \"))\n",
        "    altura = int(input(\"Ingrese la altura del triangulo: \"))\n",
        "    area = (base * altura)/2\n",
        "\n",
        "else:\n",
        "    resultado = 0\n",
        "    print(\"La opcion seleccionada no es valida\")\n",
        "\n",
        "print(f\"El area de la figura seleccionada es: {area:.2f}\")"
      ],
      "metadata": {
        "id": "8pj6dTq796bX"
      },
      "execution_count": null,
      "outputs": []
    },
    {
      "cell_type": "code",
      "source": [
        "texto = 'Python'\n",
        "lista_letras = list(texto)\n",
        "print(lista_letras)\n",
        "\n",
        "tupla = (1, 2, 3)\n",
        "lista_tupla = list(tupla)\n",
        "\n",
        "# Aqui vemos la diferencia en la salida de una lista y una tupla\n",
        "print(tupla)\n",
        "print(lista_tupla)"
      ],
      "metadata": {
        "colab": {
          "base_uri": "https://localhost:8080/"
        },
        "id": "GC7d41leQUHW",
        "outputId": "34ca4eb9-43b9-4a54-a570-9eba4513b8f8"
      },
      "execution_count": null,
      "outputs": [
        {
          "output_type": "stream",
          "name": "stdout",
          "text": [
            "['P', 'y', 't', 'h', 'o', 'n']\n",
            "(1, 2, 3)\n",
            "[1, 2, 3]\n"
          ]
        }
      ]
    },
    {
      "cell_type": "code",
      "source": [
        "nombres = [\"hola\", \"mundo\", \"hello\", \"world\"]\n",
        "n_nombres = len(nombres)\n",
        "#print(n_nombres)\n",
        "#len(nombres)\n",
        "\n",
        "campistas = [[\"Angie\", 18],[\"Andres\", 20],[\"Camilo\", 24],[\"Arley\", 30]]\n",
        "\n",
        "nombre = campistas[1][0]\n",
        "edad = campistas[1][1]\n",
        "#print(f\"{campistas[1][0]} tiene {campistas[1][1]} años\")\n",
        "#print(f\"{nombre} tiene {edad} años\")\n",
        "\n",
        "\n",
        "#for i in nombres:\n",
        "    #print(f\"\\n{i}\")\n",
        "\n",
        "for i in campistas:\n",
        "    nombre = i[0]\n",
        "    edad = i[1]\n",
        "    print(f\"El campista {nombre} tiene {edad} años\")\n",
        "\n",
        "\"\"\"\n",
        "for i in campistas:\n",
        "    print(f\"{i[0]}\")\n",
        "    print(f\"{i[1]}\")\n",
        "\n",
        "for a in campistas:\n",
        "    print(f\"El campista {a[0]} tiene {a[1]}\")\n",
        "\n",
        "for i in campistas:\n",
        "    print(f\"{i[0]}\\n{i[1]}\")\n",
        "\n",
        " \"\"\"\n",
        "print(f\"El campista {nombre} tiene {edad} años\")\n"
      ],
      "metadata": {
        "id": "xC467Ku3xiG_"
      },
      "execution_count": null,
      "outputs": []
    },
    {
      "cell_type": "code",
      "source": [
        "#Programa para consumo de energia por mes\n",
        "\n",
        "print(\"ESTE PROGRAMA SIRVE PARA CONSUMO DE ENERGIA POR MESES\")\n",
        "\n",
        "n_meses = int(input(\"Ingrese la cantidad de meses que desea ingresar: \"))\n",
        "n_mes = []\n",
        "n_consumo = []\n",
        "\n",
        "for i in range(n_meses):\n",
        "    mes = input(\"Ingrese el mes: \")\n",
        "    n_mes.append(mes)\n",
        "    consumo = float(input(f\"Ingrese la cantidad de consumo de {mes} en KW: \"))\n",
        "    n_consumo.append(consumo)\n",
        "\n",
        "n = len(n_mes)\n",
        "\n",
        "for a in range(n):\n",
        "    print(f\"En el mes {n_mes[a]} se consumio {n_consumo[a]}\")"
      ],
      "metadata": {
        "colab": {
          "base_uri": "https://localhost:8080/"
        },
        "id": "fPQcR8udQwYW",
        "outputId": "20333ac9-1ddb-4e98-d353-866b87633054"
      },
      "execution_count": null,
      "outputs": [
        {
          "output_type": "stream",
          "name": "stdout",
          "text": [
            "ESTE PROGRAMA SIRVE PARA CONSUMO DE ENERGIA POR MESES\n",
            "Ingrese la cantidad de meses que desea ingresar: 2\n",
            "Ingrese el mes: enero\n",
            "Ingrese la cantidad de consumo de enero en KW: 462\n",
            "Ingrese el mes: julio\n",
            "Ingrese la cantidad de consumo de julio en KW: 654\n",
            "En el mes enero se consumio 462.0\n",
            "En el mes julio se consumio 654.0\n"
          ]
        }
      ]
    },
    {
      "cell_type": "code",
      "source": [
        "#Programa para consumo de energia por mes\n",
        "\n",
        "print(\"ESTE PROGRAMA SIRVE PARA CONSUMO DE ENERGIA POR MESES\")\n",
        "\n",
        "num_registro = int(input(\"Ingrese la cantidad de meses que desea ingresar: \"))\n",
        "registro = []\n",
        "\n",
        "for i in range(num_registro):\n",
        "    mes = input(\"Ingrese el mes: \")\n",
        "    consumo = int(input(f\"Ingrese la cantidad de consumo de {mes} en KW: \"))\n",
        "    registro.append([mes, consumo])\n",
        "\n",
        "print(registro)"
      ],
      "metadata": {
        "id": "GYgCfL_vhQFT",
        "colab": {
          "base_uri": "https://localhost:8080/"
        },
        "outputId": "c08129c3-9517-4899-feb8-5645c86a8d30"
      },
      "execution_count": null,
      "outputs": [
        {
          "output_type": "stream",
          "name": "stdout",
          "text": [
            "ESTE PROGRAMA SIRVE PARA CONSUMO DE ENERGIA POR MESES\n",
            "Ingrese la cantidad de meses que desea ingresar: 2\n",
            "Ingrese el mes: 489\n",
            "Ingrese la cantidad de consumo de 489 en KW: 489\n",
            "Ingrese el mes: lo\n",
            "Ingrese la cantidad de consumo de lo en KW: 485\n",
            "[['489', 489], ['lo', 485]]\n"
          ]
        }
      ]
    },
    {
      "cell_type": "code",
      "source": [
        "campistas = {\"Lina\": 21,\n",
        "             \"Luis\": 26,\n",
        "             \"Andres\": 42,\n",
        "             \"Efrain\": 40,\n",
        "             \"Estefania\": 19\n",
        "             }\n",
        "\n",
        "campistas[\"Lina\"]"
      ],
      "metadata": {
        "colab": {
          "base_uri": "https://localhost:8080/"
        },
        "id": "6xBjVA5g-ZY2",
        "outputId": "ccf1c442-4f55-4908-b005-22b5e08f4022"
      },
      "execution_count": null,
      "outputs": [
        {
          "output_type": "execute_result",
          "data": {
            "text/plain": [
              "21"
            ]
          },
          "metadata": {},
          "execution_count": 5
        }
      ]
    },
    {
      "cell_type": "code",
      "source": [
        "campistas = {\n",
        "    \"Nombre\": [\"Lina\", \"Luis\", \"Andres\", \"Efrain\", \"Estefania\"],\n",
        "    \"Edad\": [21, 26, 42, 40, 19]\n",
        "            }\n",
        "\n",
        "\n",
        "\n",
        "nombres = [\"Lina\", \"Luis\", \"Andres\", \"Efrain\", \"Estefania\"]\n",
        "edades = [21, 26, 42, 40, 19]\n",
        "\n",
        "personas = list(zip(nombres, edades))\n",
        "print(personas)\n",
        "\n",
        "lista_personas = [list(persona) for persona in personas]\n",
        "print(lista_personas)"
      ],
      "metadata": {
        "colab": {
          "base_uri": "https://localhost:8080/"
        },
        "id": "JFxQoIXfALNG",
        "outputId": "bb8a16d6-c273-4d5a-cb92-a6675bf456a8"
      },
      "execution_count": null,
      "outputs": [
        {
          "output_type": "stream",
          "name": "stdout",
          "text": [
            "[('Lina', 21), ('Luis', 26), ('Andres', 42), ('Efrain', 40), ('Estefania', 19)]\n",
            "[['Lina', 21], ['Luis', 26], ['Andres', 42], ['Efrain', 40], ['Estefania', 19]]\n"
          ]
        }
      ]
    },
    {
      "cell_type": "code",
      "source": [
        "#Programa de Gestion de un Proyecto Civil\n",
        "\n",
        "proyectos = {\n",
        "    \"Proyecto A\": {\"tareas\":  [\"Excavador\", \"Climentacion\", \"Construccion de columnas\", \"Construccion de muros\", \"Instalacion de techos\"],\n",
        "                   \"duraciones\": [14, 28, 35, 42, 21]\n",
        "                   },\n",
        "    \"Proyecto B\": {\"tareas\": [\"Diseño arquitectonico\", \"Solicitud de permisos\", \"Solicitud de permisos\", \"Sxcavación\", \"Cimentación\", \"Construcción de columnas\"],\n",
        "                   \"duraciones\": [21, 14, 14, 28, 35]\n",
        "                   },\n",
        "    \"Proyecto C\": {\"tareas\": [\"Solicitud de permisos\", \"Diseño arquitectónico\", \"Excavación\", \"Cimentación\"],\n",
        "                   \"duraciones\":  [14, 21, 14, 28]\n",
        "                   }\n",
        "\n",
        "            }\n",
        "\n",
        "#Agregar la duracion total del proyecto\n",
        "for proyecto, detalles in proyectos.items():\n",
        "    #Calcular la duracion total sumando la lista de duraciones\n",
        "    duracion_total = sum(detalles[\"duraciones\"])\n",
        "    #Agregar la duracion total al diccionario\n",
        "    detalles[\"duracion_total\"] = duracion_total\n",
        "\n",
        "#proyectos\n",
        "#Mostrar la informacion organizada\n",
        "print(\"\\nDuraciones de cada proyecto: \")\n",
        "for proyecto, detalles in proyectos.items():\n",
        "    print(f\"\\n{proyecto}:\")\n",
        "    print(\"Tareas y duraciones: \")\n",
        "    for tarea, duracion in zip(detalles[\"tareas\"], detalles[\"duraciones\"]):\n",
        "        print(f\"- {tarea}: {duracion} dias\")\n",
        "    print(f'Duracion total: {detalles[\"duracion_total\"]} dias')"
      ],
      "metadata": {
        "colab": {
          "base_uri": "https://localhost:8080/"
        },
        "id": "7Rzu4K10rSfz",
        "outputId": "8902aebd-e590-43fe-ea09-0f3dff715da6"
      },
      "execution_count": null,
      "outputs": [
        {
          "output_type": "stream",
          "name": "stdout",
          "text": [
            "\n",
            "Duraciones de cada proyecto: \n",
            "\n",
            "Proyecto A:\n",
            "Tareas y duraciones: \n",
            "- Excavador: 14 dias\n",
            "- Climentacion: 28 dias\n",
            "- Construccion de columnas: 35 dias\n",
            "- Construccion de muros: 42 dias\n",
            "- Instalacion de techos: 21 dias\n",
            "Duracion total: 140 dias\n",
            "\n",
            "Proyecto B:\n",
            "Tareas y duraciones: \n",
            "- Diseño arquitectonico: 21 dias\n",
            "- Solicitud de permisos: 14 dias\n",
            "- Solicitud de permisos: 14 dias\n",
            "- Sxcavación: 28 dias\n",
            "- Cimentación: 35 dias\n",
            "Duracion total: 112 dias\n",
            "\n",
            "Proyecto C:\n",
            "Tareas y duraciones: \n",
            "- Solicitud de permisos: 14 dias\n",
            "- Diseño arquitectónico: 21 dias\n",
            "- Excavación: 14 dias\n",
            "- Cimentación: 28 dias\n",
            "Duracion total: 77 dias\n"
          ]
        }
      ]
    },
    {
      "cell_type": "code",
      "source": [
        "myTuple = (\"John\", \"Peter\", \"Vicky\")\n",
        "\n",
        "x = \"#\".join(myTuple)\n",
        "\n",
        "print(x)\n"
      ],
      "metadata": {
        "id": "yKuCSGAhrfqS",
        "colab": {
          "base_uri": "https://localhost:8080/"
        },
        "outputId": "7541e70e-efd4-4aa6-a6f4-13fe69232e9b"
      },
      "execution_count": null,
      "outputs": [
        {
          "output_type": "stream",
          "name": "stdout",
          "text": [
            "John#Peter#Vicky\n"
          ]
        }
      ]
    },
    {
      "cell_type": "code",
      "source": [
        "#Libreria Nunpy\n",
        "\n",
        "import numpy as np\n",
        "\n",
        "arreglos_enteros = np.random.randint(1, 11, 100)\n",
        "print(arreglos_enteros)"
      ],
      "metadata": {
        "colab": {
          "base_uri": "https://localhost:8080/"
        },
        "collapsed": true,
        "id": "RzdQNafwhzx0",
        "outputId": "e912490a-8c88-48e1-b0be-a3179761ce81"
      },
      "execution_count": null,
      "outputs": [
        {
          "output_type": "stream",
          "name": "stdout",
          "text": [
            "[ 1  3  3  1  3  9  3  9  9  6  2  1  7  7  2  1  9  3  1  2 10  5  2  7\n",
            "  4  3  6  9  6  6  3  9  6  6  7  2  7  9  4  7  9  4 10  7  7  5 10  6\n",
            "  5  3  1  6  6  1  9  7  3  8  9  1  4  9 10  8  2  7  4  4  3  7  8  3\n",
            "  9  8  8  6  4  9  4 10  6  4  2  6  7 10  2  6  5  5  8  6  6  5  8  6\n",
            "  3  2  8  2]\n"
          ]
        }
      ]
    },
    {
      "cell_type": "code",
      "source": [
        "#Libreria Nunpy\n",
        "\n",
        "import numpy as np\n",
        "\n",
        "arreglos_unif_dist = np.random.rand(50)\n",
        "print(arreglos_unif_dist)"
      ],
      "metadata": {
        "colab": {
          "base_uri": "https://localhost:8080/"
        },
        "id": "qZNIzQFGlBgS",
        "outputId": "43bb5f23-6bc7-4cce-b1d2-d957ac9dce05"
      },
      "execution_count": null,
      "outputs": [
        {
          "output_type": "stream",
          "name": "stdout",
          "text": [
            "[0.4053857  0.1232857  0.20578908 0.03502844 0.91143412 0.57404039\n",
            " 0.70572727 0.06614422 0.9912111  0.77745512 0.02882545 0.19576325\n",
            " 0.40543386 0.74451402 0.41902021 0.74612972 0.47765717 0.33837613\n",
            " 0.62774405 0.2051422  0.86661954 0.40605326 0.02966043 0.84065948\n",
            " 0.63942944 0.05136816 0.95511287 0.17124362 0.93912294 0.99954255\n",
            " 0.80585301 0.61749187 0.31975145 0.14876926 0.17150024 0.13057965\n",
            " 0.25002604 0.26084618 0.53528343 0.14902009 0.71587189 0.20218968\n",
            " 0.50910671 0.37047721 0.44941682 0.29108861 0.37398157 0.04564387\n",
            " 0.86106796 0.51555616]\n"
          ]
        }
      ]
    },
    {
      "cell_type": "code",
      "source": [
        "#Libreria Nunpy\n",
        "\n",
        "import numpy as np\n",
        "\n",
        "arreglos_dist_nor = np.random.randn(50)\n",
        "print(arreglos_dist_nor)"
      ],
      "metadata": {
        "colab": {
          "base_uri": "https://localhost:8080/"
        },
        "id": "YLBsX5rpmKe_",
        "outputId": "3e998abc-8bd2-4137-fd37-f5a6cc480956"
      },
      "execution_count": null,
      "outputs": [
        {
          "output_type": "stream",
          "name": "stdout",
          "text": [
            "[-1.41189826 -0.06992254 -0.78921006  1.60466452  0.130135   -0.00300167\n",
            " -0.40052799 -0.07278673 -0.54574569 -0.22845231  1.4952021  -0.00735078\n",
            "  1.1724512  -1.13430021 -0.367133    0.51313161 -0.01781841 -0.42812857\n",
            " -0.6552015   0.55451973 -0.80635081 -0.68110363 -1.76827077 -0.20022331\n",
            " -0.81632564 -0.54580794  1.77799601  0.53516631 -0.80025333 -0.8916001\n",
            "  0.07457633 -0.1402669  -0.67010835 -2.92348816 -1.232974   -1.69456011\n",
            "  1.57624711 -1.812542   -0.06219279 -0.28747476 -0.69541042 -1.55550519\n",
            "  0.89275836  0.06685538  1.1767371   1.02835131 -0.29329102 -1.34238465\n",
            " -1.51600019  0.00349838]\n"
          ]
        }
      ]
    },
    {
      "cell_type": "code",
      "source": [
        "#Libreria matploy.pyplot\n",
        "import matplotlib.pyplot as plt\n",
        "\n",
        "\n",
        "arreglos_enteros = np.random.randint(1, 11, 20)\n",
        "print(arreglos_enteros)\n",
        "bins = len(arreglos_enteros)\n",
        "plt.bar(range(bins), arreglos_enteros)\n",
        "plt.title(\"Enteros Aleatorios\")"
      ],
      "metadata": {
        "colab": {
          "base_uri": "https://localhost:8080/",
          "height": 487
        },
        "collapsed": true,
        "id": "l8CgXxwwmXqF",
        "outputId": "1f110cc7-3ed3-45ca-b157-3beb070af5c9"
      },
      "execution_count": null,
      "outputs": [
        {
          "output_type": "stream",
          "name": "stdout",
          "text": [
            "[ 5 10  5  6  5  6  3 10  5  5  3  1 10  5  7  5  3  8  3  8]\n"
          ]
        },
        {
          "output_type": "execute_result",
          "data": {
            "text/plain": [
              "Text(0.5, 1.0, 'Enteros Aleatorios')"
            ]
          },
          "metadata": {},
          "execution_count": 3
        },
        {
          "output_type": "display_data",
          "data": {
            "text/plain": [
              "<Figure size 640x480 with 1 Axes>"
            ],
            "image/png": "[encoded data removed]"
          },
          "metadata": {}
        }
      ]
    },
    {
      "cell_type": "code",
      "source": [
        "#Libreria matploy.pyplot\n",
        "import matplotlib.pyplot as plt\n",
        "\n",
        "\n",
        "arreglos_unif_dist = np.random.rand(50)\n",
        "print(arreglos_unif_dist)\n",
        "bins = len(arreglos_unif_dist)\n",
        "plt.scatter(range(bins), arreglos_unif_dist)\n",
        "plt.title(\"Uniformemente distribuidos\")"
      ],
      "metadata": {
        "colab": {
          "base_uri": "https://localhost:8080/",
          "height": 626
        },
        "id": "RiSQycvtrjkc",
        "outputId": "fe82d5b0-c337-4509-eb32-3122e3ef128c"
      },
      "execution_count": null,
      "outputs": [
        {
          "output_type": "stream",
          "name": "stdout",
          "text": [
            "[0.73111272 0.67522278 0.59373044 0.98149508 0.0811209  0.76774676\n",
            " 0.16826358 0.70347924 0.92247526 0.1415069  0.98162314 0.00212535\n",
            " 0.88545343 0.04855147 0.2806694  0.66243401 0.87900881 0.20285476\n",
            " 0.05155139 0.77793759 0.88943874 0.00567729 0.63736994 0.32429022\n",
            " 0.04439539 0.9755408  0.99538307 0.20509649 0.83728254 0.80169679\n",
            " 0.66837967 0.51762311 0.48833279 0.29604465 0.01390921 0.34587255\n",
            " 0.95421011 0.93565444 0.69154166 0.18925905 0.84613002 0.96204492\n",
            " 0.14042694 0.32980771 0.11827412 0.92274291 0.49729869 0.10500804\n",
            " 0.20199551 0.1389084 ]\n"
          ]
        },
        {
          "output_type": "execute_result",
          "data": {
            "text/plain": [
              "Text(0.5, 1.0, 'Uniformemente distribuidos')"
            ]
          },
          "metadata": {},
          "execution_count": 4
        },
        {
          "output_type": "display_data",
          "data": {
            "text/plain": [
              "<Figure size 640x480 with 1 Axes>"
            ],
            "image/png": "[encoded data removed]"
          },
          "metadata": {}
        }
      ]
    },
    {
      "cell_type": "code",
      "source": [
        "#Libreria matploy.pyplot\n",
        "import matplotlib.pyplot as plt\n",
        "\n",
        "arreglos_dist_nor = np.random.randn(50)\n",
        "print(arreglos_dist_nor)\n",
        "bins = len(arreglos_dist_nor)\n",
        "plt.hist(arreglos_dist_nor)\n",
        "plt.title(\"Distribucion Normal\")"
      ],
      "metadata": {
        "colab": {
          "base_uri": "https://localhost:8080/",
          "height": 626
        },
        "collapsed": true,
        "id": "OV6ky5DImAsD",
        "outputId": "2d66324e-dbb9-4650-c1cc-9e78782ba130"
      },
      "execution_count": null,
      "outputs": [
        {
          "output_type": "stream",
          "name": "stdout",
          "text": [
            "[ 0.28941496  0.8882657  -0.23642693 -0.20914051  0.54838381  1.37913943\n",
            "  0.34919287 -1.46207637  0.46395708  1.98823756  0.98339123 -1.79877303\n",
            " -0.57216353  1.38582491  0.52494399  0.43730557  0.38982738  2.8291699\n",
            " -0.63504383  0.28959361 -1.03338595 -0.32963294  1.00175458 -0.69856512\n",
            "  0.05953791 -0.74101599  1.24626587  0.27147257  0.1442548   0.70990444\n",
            "  1.41695149  0.199618    1.76372968  0.37823947  0.08095987 -0.30447658\n",
            "  2.08217417 -1.11318477 -0.10498048  0.54480746  0.49490938 -2.13393959\n",
            "  0.86779511  0.7117449  -0.7533536   1.81626389 -0.38621283 -1.63493861\n",
            " -0.71128715  2.86104911]\n"
          ]
        },
        {
          "output_type": "execute_result",
          "data": {
            "text/plain": [
              "Text(0.5, 1.0, 'Distribucion Normal')"
            ]
          },
          "metadata": {},
          "execution_count": 5
        },
        {
          "output_type": "display_data",
          "data": {
            "text/plain": [
              "<Figure size 640x480 with 1 Axes>"
            ],
            "image/png": "[encoded data removed]"
          },
          "metadata": {}
        }
      ]
    },
    {
      "cell_type": "code",
      "source": [
        "\"\"\"\n",
        "Una empresa de servicios públicos necesita calcular el valor a pagar en las facturas de sus clientes de manera dinámica. Para esto, dispone de la siguiente información:\n",
        "\n",
        "    Códigos de Factura: Cada cliente tiene un código único de factura.\n",
        "    Consumo Promedio: Es el consumo promedio histórico del cliente.\n",
        "    Consumo Actual: Es el consumo registrado en el período actual.\n",
        "    Valor Base de la Factura: Es el monto inicial que el cliente debe pagar, sin ajustes.\n",
        "\n",
        "Reglas para calcular el valor final a pagar:\n",
        "\n",
        "    Si el consumo actual es mayor que el consumo promedio, el cliente paga un 5% adicional sobre el valor base de la factura.\n",
        "    Si el consumo actual es igual al consumo promedio, el cliente paga el mismo valor base de la factura.\n",
        "    Si el consumo actual es menor que el consumo promedio, el cliente recibe un descuento del 7% en su factura.\n",
        "\n",
        "Objetivo: Desarrollar un programa en Python que procese estos datos y determine el valor final a pagar por cada cliente.\n",
        "El resultado debe mostrar en una tabla el código de factura, el consumo promedio, el consumo actual,\n",
        "el valor base de la factura y el valor final a pagar luego de aplicar los ajustes correspondientes.\n",
        "\"\"\""
      ],
      "metadata": {
        "id": "x4KMmo1Ltvf5",
        "collapsed": true,
        "colab": {
          "base_uri": "https://localhost:8080/",
          "height": 122
        },
        "outputId": "2e8cb20c-2bc6-4b90-e502-9bb2fe5d368a"
      },
      "execution_count": null,
      "outputs": [
        {
          "output_type": "execute_result",
          "data": {
            "text/plain": [
              "'\\nUna empresa de servicios públicos necesita calcular el valor a pagar en las facturas de sus clientes de manera dinámica. Para esto, dispone de la siguiente información:\\n\\n    Códigos de Factura: Cada cliente tiene un código único de factura.\\n    Consumo Promedio: Es el consumo promedio histórico del cliente.\\n    Consumo Actual: Es el consumo registrado en el período actual.\\n    Valor Base de la Factura: Es el monto inicial que el cliente debe pagar, sin ajustes.\\n\\nReglas para calcular el valor final a pagar:\\n\\n    Si el consumo actual es mayor que el consumo promedio, el cliente paga un 5% adicional sobre el valor base de la factura.\\n    Si el consumo actual es igual al consumo promedio, el cliente paga el mismo valor base de la factura.\\n    Si el consumo actual es menor que el consumo promedio, el cliente recibe un descuento del 7% en su factura.\\n\\nObjetivo: Desarrollar un programa en Python que procese estos datos y determine el valor final a pagar por cada cliente. El resultado debe mostrar en una tabla el código de factura, el consumo promedio, el consumo actual, el valor base de la factura y el valor final a pagar luego de aplicar los ajustes correspondientes.\\n'"
            ],
            "application/vnd.google.colaboratory.intrinsic+json": {
              "type": "string"
            }
          },
          "metadata": {},
          "execution_count": 1
        }
      ]
    },
    {
      "cell_type": "code",
      "source": [
        "import numpy as np\n",
        "import matplotlib.pyplot as plt\n",
        "import time\n",
        "\n",
        "np.random.seed(int(time.time()))\n",
        "\n",
        "num_clientes = 10\n",
        "\n",
        "consumos_promedios = np.random.randint(30, 221, size = num_clientes)\n",
        "consumos_actual = np.random.randint(30, 221, size = num_clientes)\n",
        "\n",
        "valores_factura = np.random.randint(100000, 500000, size = num_clientes)\n",
        "\n",
        "incremento = 0.05\n",
        "decremento = 0.07\n",
        "\n",
        "condiciones = [\n",
        "    consumos_actual > consumos_promedios,\n",
        "    consumos_actual < consumos_promedios,\n",
        "    consumos_actual == consumos_promedios\n",
        "    ]\n",
        "\n",
        "valores = [\n",
        "    valores_factura * (1 + incremento),\n",
        "    valores_factura * (1 - decremento),\n",
        "    valores_factura\n",
        "    ]\n",
        "\n",
        "valores_pagar = np.select(condiciones, valores)\n",
        "valores_pagar = np.round(valores_pagar, 2)\n",
        "\n",
        "suma_valores_factura = np.sum(valores_factura)\n",
        "suma_valores_pagar = np.sum(valores_pagar)\n",
        "\n",
        "#print(f\"Suma total de valores de factur: ${suma_valores_factura:,.2f}\")\n",
        "#print(f\"Suma total de valores de factur: ${suma_valores_pagar:,.2f}\")\n",
        "\n",
        "print(\"\\n\" + \"-\"*70)\n",
        "print(f'{\"fatura\":^8}{\"Consumos_prom.\":>15}{\"Cosnumo Act.\":>15}{\"Factura Base\":>15}{\"Total a pagar\":>15}')\n",
        "print(\"-\"*70)\n",
        "for i in range(num_clientes):\n",
        "    print(f'{i+1:^8}{consumos_promedios[i]:>15}{consumos_actual[i]:>15}{valores_factura[i]:>15,.2f}{valores_pagar[i]:>15,.2f}')\n",
        "print(\"-\"*70)\n",
        "\n",
        "print(f\"Suma total de valores de factur: ${suma_valores_factura:,.2f}\")\n",
        "print(f\"Suma total de valores de factur: ${suma_valores_pagar:,.2f}\")"
      ],
      "metadata": {
        "colab": {
          "base_uri": "https://localhost:8080/"
        },
        "id": "ac4q0rXRcrIQ",
        "outputId": "8300f9a3-6694-4200-f493-ee4ac28aa7de"
      },
      "execution_count": null,
      "outputs": [
        {
          "output_type": "stream",
          "name": "stdout",
          "text": [
            "\n",
            "----------------------------------------------------------------------\n",
            " fatura  Consumos_prom.   Cosnumo Act.   Factura Base  Total a pagar\n",
            "----------------------------------------------------------------------\n",
            "   1                199            142     430,326.00     400,203.18\n",
            "   2                152             35     451,842.00     420,213.06\n",
            "   3                 32            201     144,783.00     152,022.15\n",
            "   4                121             58     180,239.00     167,622.27\n",
            "   5                111            157     397,135.00     416,991.75\n",
            "   6                141             96     376,672.00     350,304.96\n",
            "   7                122             49     397,162.00     369,360.66\n",
            "   8                120            160     234,902.00     246,647.10\n",
            "   9                155            157     418,957.00     439,904.85\n",
            "   10               129            212     230,414.00     241,934.70\n",
            "----------------------------------------------------------------------\n",
            "Suma total de valores de factur: $3,262,432.00\n",
            "Suma total de valores de factur: $3,205,204.68\n"
          ]
        }
      ]
    },
    {
      "cell_type": "code",
      "source": [
        "import numpy as np\n",
        "import matplotlib.pyplot as plt\n",
        "import time\n",
        "\n",
        "np.random.seed(int(time.time()))\n",
        "\n",
        "num_clientes = 100\n",
        "\n",
        "consumos_promedios = np.random.randint(30, 221, size = num_clientes)\n",
        "consumos_actual = np.random.randint(30, 221, size = num_clientes)\n",
        "\n",
        "valores_factura = np.random.randint(100000, 500000, size = num_clientes)\n",
        "\n",
        "incremento = 0.05\n",
        "decremento = 0.07\n",
        "\n",
        "condiciones = [\n",
        "    consumos_actual > consumos_promedios,\n",
        "    consumos_actual == consumos_promedios,\n",
        "    consumos_actual < consumos_promedios\n",
        "    ]\n",
        "\n",
        "valores = [\n",
        "    valores_factura * (1 + incremento),\n",
        "    valores_factura,\n",
        "    valores_factura * (1 - decremento)\n",
        "    ]\n",
        "\n",
        "valores_pagar = np.select(condiciones, valores)\n",
        "valores_pagar = np.round(valores_pagar, 2)\n",
        "\n",
        "suma_valores_factura = np.sum(valores_factura)\n",
        "suma_valores_pagar = np.sum(valores_pagar)\n",
        "\n",
        "#print(f\"Suma total de valores de factur: ${suma_valores_factura:,.2f}\")\n",
        "#print(f\"Suma total de valores de factur: ${suma_valores_pagar:,.2f}\")\n",
        "\n",
        "print(\"\\n\" + \"-\"*70)\n",
        "print(f'{\"fatura\":^8}{\"Consumos_prom.\":>15}{\"Cosnumo Act.\":>15}{\"Factura Base\":>15}{\"Total a pagar\":>15}')\n",
        "print(\"-\"*70)\n",
        "for i in range(num_clientes):\n",
        "    print(f'{i+1:^8}{consumos_promedios[i]:>15}{consumos_actual[i]:>15}{valores_factura[i]:>15,.2f}{valores_pagar[i]:>15,.2f}')\n",
        "print(\"-\"*70)\n",
        "\n",
        "print(f\"Suma total de valores de factura: ${suma_valores_factura:,.2f}\")\n",
        "print(f\"Suma total de valores de factura: ${suma_valores_pagar:,.2f}\")\n",
        "\n",
        "\n",
        "\n",
        "\n",
        "num_facturas_incremento = np.sum(consumos_actual > consumos_promedios)\n",
        "num_facturas_sin_cambio = np.sum(consumos_actual == consumos_promedios)\n",
        "num_facturas_descuento = np.sum(consumos_actual < consumos_promedios)\n",
        "\n",
        "plt.figure(figsize = (8, 4))\n",
        "plt.bar([\"Valores Factura\", \"Valores a Pagar\"],\n",
        "        [suma_valores_factura, suma_valores_pagar],\n",
        "        color = [\"blue\", \"yellow\"]\n",
        "        )\n",
        "plt.ylabel(\"total ($)\")\n",
        "plt.title(\"Comparacion de Facturacion Total\")\n",
        "plt.show()\n",
        "\n",
        "\n",
        "\n",
        "plt.figure(figsize = (8, 4))\n",
        "plt.bar([\"Facturas con Incremento\", \"Facturas sin cambio\", \"Facturas con Descuento\"],\n",
        "        [num_facturas_incremento, num_facturas_sin_cambio, num_facturas_descuento],\n",
        "        color = [\"red\", \"grey\", \"green\"]\n",
        "        )\n",
        "plt.ylabel(\"Cantidad de Facturas\")\n",
        "plt.title(\"Distribucion de Facturas segun Ajustes\")\n",
        "plt.show()"
      ],
      "metadata": {
        "colab": {
          "base_uri": "https://localhost:8080/",
          "height": 1000
        },
        "id": "23VLfMJc37j_",
        "outputId": "626b3eb4-b30d-42a6-b3ea-95742b348d4e"
      },
      "execution_count": null,
      "outputs": [
        {
          "output_type": "stream",
          "name": "stdout",
          "text": [
            "\n",
            "----------------------------------------------------------------------\n",
            " fatura  Consumos_prom.   Cosnumo Act.   Factura Base  Total a pagar\n",
            "----------------------------------------------------------------------\n",
            "   1                 62             47     491,811.00     457,384.23\n",
            "   2                183            149     106,173.00      98,740.89\n",
            "   3                187            151     427,637.00     397,702.41\n",
            "   4                128            157     123,431.00     129,602.55\n",
            "   5                159            113     161,650.00     150,334.50\n",
            "   6                131            152     207,856.00     218,248.80\n",
            "   7                189             38     394,145.00     366,554.85\n",
            "   8                 54             92     341,193.00     358,252.65\n",
            "   9                148             31     142,283.00     132,323.19\n",
            "   10                97            160     260,236.00     273,247.80\n",
            "   11                38             87     304,511.00     319,736.55\n",
            "   12               134            200     457,838.00     480,729.90\n",
            "   13               203            191     225,338.00     209,564.34\n",
            "   14                88             83     149,438.00     138,977.34\n",
            "   15               111            116     157,039.00     164,890.95\n",
            "   16                93             94     220,862.00     231,905.10\n",
            "   17               139             50     127,436.00     118,515.48\n",
            "   18               200            106     256,368.00     238,422.24\n",
            "   19                97            116     330,026.00     346,527.30\n",
            "   20               121            138     334,703.00     351,438.15\n",
            "   21               196            219     131,845.00     138,437.25\n",
            "   22               128            147     422,505.00     443,630.25\n",
            "   23               166            205     121,383.00     127,452.15\n",
            "   24                91             45     143,086.00     133,069.98\n",
            "   25               183             94     250,897.00     233,334.21\n",
            "   26               102            148     361,300.00     379,365.00\n",
            "   27               156             49     261,237.00     242,950.41\n",
            "   28               148            112     287,527.00     267,400.11\n",
            "   29               109            179     165,800.00     174,090.00\n",
            "   30               133            124     142,632.00     132,647.76\n",
            "   31               128             50     305,539.00     284,151.27\n",
            "   32                60            128     217,834.00     228,725.70\n",
            "   33               195            156     415,685.00     386,587.05\n",
            "   34               130            202     283,274.00     297,437.70\n",
            "   35               134            215     488,134.00     512,540.70\n",
            "   36               199            147     263,808.00     245,341.44\n",
            "   37               125            168     381,980.00     401,079.00\n",
            "   38                61            147     431,918.00     453,513.90\n",
            "   39                72            177     498,001.00     522,901.05\n",
            "   40                97             89     381,630.00     354,915.90\n",
            "   41               209            110     223,996.00     208,316.28\n",
            "   42               209            199     499,305.00     464,353.65\n",
            "   43               189            146     205,695.00     191,296.35\n",
            "   44                36            219     432,412.00     454,032.60\n",
            "   45               110            149     100,694.00     105,728.70\n",
            "   46                45            197     186,471.00     195,794.55\n",
            "   47               134             78     345,675.00     321,477.75\n",
            "   48                53             52     408,261.00     379,682.73\n",
            "   49               142            163     283,880.00     298,074.00\n",
            "   50               211             82     182,888.00     170,085.84\n",
            "   51               115            190     365,348.00     383,615.40\n",
            "   52                33             53     438,746.00     460,683.30\n",
            "   53                82             99     332,145.00     348,752.25\n",
            "   54                56            219     467,400.00     490,770.00\n",
            "   55                57            129     434,896.00     456,640.80\n",
            "   56               126             37     269,641.00     250,766.13\n",
            "   57               184            123     245,498.00     228,313.14\n",
            "   58                54            171     263,674.00     276,857.70\n",
            "   59               179             79     203,913.00     189,639.09\n",
            "   60               155            102     322,916.00     300,311.88\n",
            "   61                98            175     241,160.00     253,218.00\n",
            "   62               190             65     183,228.00     170,402.04\n",
            "   63               176            100     303,238.00     282,011.34\n",
            "   64               213             50     296,060.00     275,335.80\n",
            "   65               101            163     157,923.00     165,819.15\n",
            "   66               164            112     150,325.00     139,802.25\n",
            "   67                58             32     158,062.00     146,997.66\n",
            "   68               200             95     357,588.00     332,556.84\n",
            "   69               169            152     146,087.00     135,860.91\n",
            "   70               161            154     241,118.00     224,239.74\n",
            "   71               182             32     320,939.00     298,473.27\n",
            "   72                80            147     330,666.00     347,199.30\n",
            "   73               175            184     296,279.00     311,092.95\n",
            "   74                33             39     446,690.00     469,024.50\n",
            "   75                37             81     160,858.00     168,900.90\n",
            "   76               124            204     214,144.00     224,851.20\n",
            "   77               103            197     397,578.00     417,456.90\n",
            "   78               113            146     488,648.00     513,080.40\n",
            "   79               146             31     320,255.00     297,837.15\n",
            "   80               191             44     454,305.00     422,503.65\n",
            "   81                41            212     150,706.00     158,241.30\n",
            "   82                47            132     341,048.00     358,100.40\n",
            "   83               191            199     455,824.00     478,615.20\n",
            "   84                37            147     300,109.00     315,114.45\n",
            "   85               207            166     388,602.00     361,399.86\n",
            "   86                96            206     173,381.00     182,050.05\n",
            "   87               131            144     403,969.00     424,167.45\n",
            "   88               151            176     489,652.00     514,134.60\n",
            "   89                93             81     153,297.00     142,566.21\n",
            "   90                55             86     407,265.00     427,628.25\n",
            "   91                77            220     383,692.00     402,876.60\n",
            "   92                43            123     184,841.00     194,083.05\n",
            "   93               154            182     481,323.00     505,389.15\n",
            "   94               171            217     291,567.00     306,145.35\n",
            "   95                44            209     442,448.00     464,570.40\n",
            "   96                84            168     272,584.00     286,213.20\n",
            "   97               192             68     446,415.00     415,165.95\n",
            "   98                98            100     325,699.00     341,983.95\n",
            "   99               107            161     126,708.00     133,043.40\n",
            "  100               208             41     243,592.00     226,540.56\n",
            "----------------------------------------------------------------------\n",
            "Suma total de valores de factura: $29,517,316.00\n",
            "Suma total de valores de factura: $29,552,555.52\n"
          ]
        },
        {
          "output_type": "display_data",
          "data": {
            "text/plain": [
              "<Figure size 800x400 with 1 Axes>"
            ],
            "image/png": "[encoded data removed]"
          },
          "metadata": {}
        },
        {
          "output_type": "display_data",
          "data": {
            "text/plain": [
              "<Figure size 800x400 with 1 Axes>"
            ],
            "image/png": "[encoded data removed]"
          },
          "metadata": {}
        }
      ]
    },
    {
      "cell_type": "code",
      "source": [
        "import pandas as pd\n",
        "\n",
        "\n",
        "serie= pd.Series([10, 20, 30, 40])\n",
        "print(\"Serie creada a partirde una lista; \")\n",
        "print(\"Serie creada a partir e¿de una lista\")\n",
        "#print(serie)\n",
        "\n",
        "\n",
        "serie_personalizada = pd.Series([1.5, 2.5, 3.5], index = [\"a\", \"b\", \"c\"])\n",
        "print(serie_personalizada)"
      ],
      "metadata": {
        "id": "DMc33q8KLKOJ"
      },
      "execution_count": null,
      "outputs": []
    },
    {
      "cell_type": "code",
      "source": [
        "import pandas as pd\n",
        "\n",
        "\n",
        "serie= pd.Series([10, 20, 30, 40])\n",
        "print(\"Serie creada a partirde una lista: \")\n",
        "print(\"Serie creada a partir desde una lista\")\n",
        "#print(serie)\n",
        "\n",
        "serie_personalizada = pd.Series([1.5, 2.5, 3.5], index = [\"Hidraulica\", \"Solar\", \"Termo\"])\n",
        "#print(serie_personalizada)\n",
        "serie_personalizada.name = \"Generacion en Gw\"\n",
        "serie_personalizada = (serie_personalizada*2)\n",
        "print(\"\\nSerie con indice personalizado: \")\n",
        "\n",
        "serie_personalizada"
      ],
      "metadata": {
        "colab": {
          "base_uri": "https://localhost:8080/",
          "height": 248
        },
        "id": "jhC_sJCVLPxJ",
        "outputId": "c8c7d82b-d7e9-4f44-d79b-96c28aa7cb68"
      },
      "execution_count": null,
      "outputs": [
        {
          "output_type": "stream",
          "name": "stdout",
          "text": [
            "Serie creada a partirde una lista: \n",
            "Serie creada a partir desde una lista\n",
            "\n",
            "Serie con indice personalizado: \n"
          ]
        },
        {
          "output_type": "execute_result",
          "data": {
            "text/plain": [
              "Hidraulica    3.0\n",
              "Solar         5.0\n",
              "Termo         7.0\n",
              "Name: Generacion en Gw, dtype: float64"
            ],
            "text/html": [
              "<div>\n",
              "<style scoped>\n",
              "    .dataframe tbody tr th:only-of-type {\n",
              "        vertical-align: middle;\n",
              "    }\n",
              "\n",
              "    .dataframe tbody tr th {\n",
              "        vertical-align: top;\n",
              "    }\n",
              "\n",
              "    .dataframe thead th {\n",
              "        text-align: right;\n",
              "    }\n",
              "</style>\n",
              "<table border=\"1\" class=\"dataframe\">\n",
              "  <thead>\n",
              "    <tr style=\"text-align: right;\">\n",
              "      <th></th>\n",
              "      <th>Generacion en Gw</th>\n",
              "    </tr>\n",
              "  </thead>\n",
              "  <tbody>\n",
              "    <tr>\n",
              "      <th>Hidraulica</th>\n",
              "      <td>3.0</td>\n",
              "    </tr>\n",
              "    <tr>\n",
              "      <th>Solar</th>\n",
              "      <td>5.0</td>\n",
              "    </tr>\n",
              "    <tr>\n",
              "      <th>Termo</th>\n",
              "      <td>7.0</td>\n",
              "    </tr>\n",
              "  </tbody>\n",
              "</table>\n",
              "</div><br><label><b>dtype:</b> float64</label>"
            ]
          },
          "metadata": {},
          "execution_count": 23
        }
      ]
    },
    {
      "cell_type": "code",
      "source": [
        "import pandas as pd\n",
        "\n",
        "serie_personalizada = pd.Series([1.5, 2.5, 3.5], index = [\"Hidraulica\", \"Solar\", \"Termo\"])\n",
        "#print(serie_personalizada)\n",
        "serie_personalizada.name = \"Generacion en Gw\"\n",
        "serie_personalizada = (serie_personalizada*2)\n",
        "print(\"\\nSerie con indice personalizado: \")\n",
        "\n",
        "serie_personalizada"
      ],
      "metadata": {
        "colab": {
          "base_uri": "https://localhost:8080/",
          "height": 213
        },
        "id": "qEh0WTVAOLvj",
        "outputId": "04766453-69fa-47ec-f67d-1e91b7cfb9cc"
      },
      "execution_count": null,
      "outputs": [
        {
          "output_type": "stream",
          "name": "stdout",
          "text": [
            "\n",
            "Serie con indice personalizado: \n"
          ]
        },
        {
          "output_type": "execute_result",
          "data": {
            "text/plain": [
              "Hidraulica    3.0\n",
              "Solar         5.0\n",
              "Termo         7.0\n",
              "Name: Generacion en Gw, dtype: float64"
            ],
            "text/html": [
              "<div>\n",
              "<style scoped>\n",
              "    .dataframe tbody tr th:only-of-type {\n",
              "        vertical-align: middle;\n",
              "    }\n",
              "\n",
              "    .dataframe tbody tr th {\n",
              "        vertical-align: top;\n",
              "    }\n",
              "\n",
              "    .dataframe thead th {\n",
              "        text-align: right;\n",
              "    }\n",
              "</style>\n",
              "<table border=\"1\" class=\"dataframe\">\n",
              "  <thead>\n",
              "    <tr style=\"text-align: right;\">\n",
              "      <th></th>\n",
              "      <th>Generacion en Gw</th>\n",
              "    </tr>\n",
              "  </thead>\n",
              "  <tbody>\n",
              "    <tr>\n",
              "      <th>Hidraulica</th>\n",
              "      <td>3.0</td>\n",
              "    </tr>\n",
              "    <tr>\n",
              "      <th>Solar</th>\n",
              "      <td>5.0</td>\n",
              "    </tr>\n",
              "    <tr>\n",
              "      <th>Termo</th>\n",
              "      <td>7.0</td>\n",
              "    </tr>\n",
              "  </tbody>\n",
              "</table>\n",
              "</div><br><label><b>dtype:</b> float64</label>"
            ]
          },
          "metadata": {},
          "execution_count": 24
        }
      ]
    },
    {
      "cell_type": "code",
      "source": [
        "import pandas as pd\n",
        "\n",
        "serie_diccionario = pd.Series({\"rojo\": 100, \"verde\": 200, \"Azul\": 300})\n",
        "print(print(\"\\nSerie creada a partir de un diccionario: \"))\n",
        "serie_diccionario"
      ],
      "metadata": {
        "colab": {
          "base_uri": "https://localhost:8080/",
          "height": 230
        },
        "id": "kDpTXCVdPhQr",
        "outputId": "92d85c4c-05d7-43ea-aa38-29e7ea786ed8"
      },
      "execution_count": null,
      "outputs": [
        {
          "output_type": "stream",
          "name": "stdout",
          "text": [
            "\n",
            "Serie creada a partir de un diccionario: \n",
            "None\n"
          ]
        },
        {
          "output_type": "execute_result",
          "data": {
            "text/plain": [
              "rojo     100\n",
              "verde    200\n",
              "Azul     300\n",
              "dtype: int64"
            ],
            "text/html": [
              "<div>\n",
              "<style scoped>\n",
              "    .dataframe tbody tr th:only-of-type {\n",
              "        vertical-align: middle;\n",
              "    }\n",
              "\n",
              "    .dataframe tbody tr th {\n",
              "        vertical-align: top;\n",
              "    }\n",
              "\n",
              "    .dataframe thead th {\n",
              "        text-align: right;\n",
              "    }\n",
              "</style>\n",
              "<table border=\"1\" class=\"dataframe\">\n",
              "  <thead>\n",
              "    <tr style=\"text-align: right;\">\n",
              "      <th></th>\n",
              "      <th>0</th>\n",
              "    </tr>\n",
              "  </thead>\n",
              "  <tbody>\n",
              "    <tr>\n",
              "      <th>rojo</th>\n",
              "      <td>100</td>\n",
              "    </tr>\n",
              "    <tr>\n",
              "      <th>verde</th>\n",
              "      <td>200</td>\n",
              "    </tr>\n",
              "    <tr>\n",
              "      <th>Azul</th>\n",
              "      <td>300</td>\n",
              "    </tr>\n",
              "  </tbody>\n",
              "</table>\n",
              "</div><br><label><b>dtype:</b> int64</label>"
            ]
          },
          "metadata": {},
          "execution_count": 25
        }
      ]
    },
    {
      "cell_type": "code",
      "source": [
        "\"\"\"\n",
        "  Análisis de Producción de Energía Renovable\n",
        "    Se requiere desarrollar un programa que almacene y muestre la producción de energía de diversas fuentes renovables en gigavatios (GW).\n",
        "    El sistema debe permitir visualizar los datos en una estructura ordenada para facilitar el análisis comparativo de las contribuciones de cada fuente energética.\n",
        "\"\"\"\n",
        "\n",
        "import pandas as pd\n",
        "\n"
      ],
      "metadata": {
        "id": "E7srmZ8TPrdQ"
      },
      "execution_count": null,
      "outputs": []
    },
    {
      "cell_type": "code",
      "source": [
        "\"\"\"\n",
        "Gestion de Proyectos de Energias Renovables\n",
        "\"\"\"\n",
        "\n",
        "import pandas as pd\n",
        "\n",
        "proyectos_renovables = {\n",
        "    \"Proyecto\": [\"Solar Andes\", \"Viento Pacifico\", \"Hidro Amazonas\", \"Bio Norte\"],\n",
        "    \"Capacidad (MW)\": [150, 200, 500, 100],\n",
        "    \"Ubicacion\": [\"Chile\", \"Perú\", \"Brasil\", \"Colombia\"]\n",
        "    }\n",
        "\n",
        "\n",
        "df = pd.DataFrame(proyectos_renovables)\n",
        "print(f'\\n{\"PROYECTOS DE ENERGIAS RENOVABLES\":^50}')\n",
        "df"
      ],
      "metadata": {
        "colab": {
          "base_uri": "https://localhost:8080/",
          "height": 210
        },
        "id": "nHZs8HDuyV8R",
        "outputId": "196a5697-0865-44f3-dfae-37ab8dbde5a6"
      },
      "execution_count": null,
      "outputs": [
        {
          "output_type": "stream",
          "name": "stdout",
          "text": [
            "\n",
            "         PROYECTOS DE ENERGIAS RENOVABLES         \n"
          ]
        },
        {
          "output_type": "execute_result",
          "data": {
            "text/plain": [
              "          Proyecto  Capacidad (MW) Ubicacion\n",
              "0      Solar Andes             150     Chile\n",
              "1  Viento Pacifico             200      Perú\n",
              "2   Hidro Amazonas             500    Brasil\n",
              "3        Bio Norte             100  Colombia"
            ],
            "text/html": [
              "\n",
              "  <div id=\"df-8de1818f-e2ed-4215-b0b3-d25905027455\" class=\"colab-df-container\">\n",
              "    <div>\n",
              "<style scoped>\n",
              "    .dataframe tbody tr th:only-of-type {\n",
              "        vertical-align: middle;\n",
              "    }\n",
              "\n",
              "    .dataframe tbody tr th {\n",
              "        vertical-align: top;\n",
              "    }\n",
              "\n",
              "    .dataframe thead th {\n",
              "        text-align: right;\n",
              "    }\n",
              "</style>\n",
              "<table border=\"1\" class=\"dataframe\">\n",
              "  <thead>\n",
              "    <tr style=\"text-align: right;\">\n",
              "      <th></th>\n",
              "      <th>Proyecto</th>\n",
              "      <th>Capacidad (MW)</th>\n",
              "      <th>Ubicacion</th>\n",
              "    </tr>\n",
              "  </thead>\n",
              "  <tbody>\n",
              "    <tr>\n",
              "      <th>0</th>\n",
              "      <td>Solar Andes</td>\n",
              "      <td>150</td>\n",
              "      <td>Chile</td>\n",
              "    </tr>\n",
              "    <tr>\n",
              "      <th>1</th>\n",
              "      <td>Viento Pacifico</td>\n",
              "      <td>200</td>\n",
              "      <td>Perú</td>\n",
              "    </tr>\n",
              "    <tr>\n",
              "      <th>2</th>\n",
              "      <td>Hidro Amazonas</td>\n",
              "      <td>500</td>\n",
              "      <td>Brasil</td>\n",
              "    </tr>\n",
              "    <tr>\n",
              "      <th>3</th>\n",
              "      <td>Bio Norte</td>\n",
              "      <td>100</td>\n",
              "      <td>Colombia</td>\n",
              "    </tr>\n",
              "  </tbody>\n",
              "</table>\n",
              "</div>\n",
              "    <div class=\"colab-df-buttons\">\n",
              "\n",
              "  <div class=\"colab-df-container\">\n",
              "    <button class=\"colab-df-convert\" onclick=\"convertToInteractive('df-8de1818f-e2ed-4215-b0b3-d25905027455')\"\n",
              "            title=\"Convert this dataframe to an interactive table.\"\n",
              "            style=\"display:none;\">\n",
              "\n",
              "  <svg xmlns=\"http://www.w3.org/2000/svg\" height=\"24px\" viewBox=\"0 -960 960 960\">\n",
              "    <path d=\"M120-120v-720h720v720H120Zm60-500h600v-160H180v160Zm220 220h160v-160H400v160Zm0 220h160v-160H400v160ZM180-400h160v-160H180v160Zm440 0h160v-160H620v160ZM180-180h160v-160H180v160Zm440 0h160v-160H620v160Z\"/>\n",
              "  </svg>\n",
              "    </button>\n",
              "\n",
              "  <style>\n",
              "    .colab-df-container {\n",
              "      display:flex;\n",
              "      gap: 12px;\n",
              "    }\n",
              "\n",
              "    .colab-df-convert {\n",
              "      background-color: #E8F0FE;\n",
              "      border: none;\n",
              "      border-radius: 50%;\n",
              "      cursor: pointer;\n",
              "      display: none;\n",
              "      fill: #1967D2;\n",
              "      height: 32px;\n",
              "      padding: 0 0 0 0;\n",
              "      width: 32px;\n",
              "    }\n",
              "\n",
              "    .colab-df-convert:hover {\n",
              "      background-color: #E2EBFA;\n",
              "      box-shadow: 0px 1px 2px rgba(60, 64, 67, 0.3), 0px 1px 3px 1px rgba(60, 64, 67, 0.15);\n",
              "      fill: #174EA6;\n",
              "    }\n",
              "\n",
              "    .colab-df-buttons div {\n",
              "      margin-bottom: 4px;\n",
              "    }\n",
              "\n",
              "    [theme=dark] .colab-df-convert {\n",
              "      background-color: #3B4455;\n",
              "      fill: #D2E3FC;\n",
              "    }\n",
              "\n",
              "    [theme=dark] .colab-df-convert:hover {\n",
              "      background-color: #434B5C;\n",
              "      box-shadow: 0px 1px 3px 1px rgba(0, 0, 0, 0.15);\n",
              "      filter: drop-shadow(0px 1px 2px rgba(0, 0, 0, 0.3));\n",
              "      fill: #FFFFFF;\n",
              "    }\n",
              "  </style>\n",
              "\n",
              "    <script>\n",
              "      const buttonEl =\n",
              "        document.querySelector('#df-8de1818f-e2ed-4215-b0b3-d25905027455 button.colab-df-convert');\n",
              "      buttonEl.style.display =\n",
              "        google.colab.kernel.accessAllowed ? 'block' : 'none';\n",
              "\n",
              "      async function convertToInteractive(key) {\n",
              "        const element = document.querySelector('#df-8de1818f-e2ed-4215-b0b3-d25905027455');\n",
              "        const dataTable =\n",
              "          await google.colab.kernel.invokeFunction('convertToInteractive',\n",
              "                                                    [key], {});\n",
              "        if (!dataTable) return;\n",
              "\n",
              "        const docLinkHtml = 'Like what you see? Visit the ' +\n",
              "          '<a target=\"_blank\" href=https://colab.research.google.com/notebooks/data_table.ipynb>data table notebook</a>'\n",
              "          + ' to learn more about interactive tables.';\n",
              "        element.innerHTML = '';\n",
              "        dataTable['output_type'] = 'display_data';\n",
              "        await google.colab.output.renderOutput(dataTable, element);\n",
              "        const docLink = document.createElement('div');\n",
              "        docLink.innerHTML = docLinkHtml;\n",
              "        element.appendChild(docLink);\n",
              "      }\n",
              "    </script>\n",
              "  </div>\n",
              "\n",
              "\n",
              "<div id=\"df-412a593d-61dc-4975-acb7-5454f9c53e9f\">\n",
              "  <button class=\"colab-df-quickchart\" onclick=\"quickchart('df-412a593d-61dc-4975-acb7-5454f9c53e9f')\"\n",
              "            title=\"Suggest charts\"\n",
              "            style=\"display:none;\">\n",
              "\n",
              "<svg xmlns=\"http://www.w3.org/2000/svg\" height=\"24px\"viewBox=\"0 0 24 24\"\n",
              "     width=\"24px\">\n",
              "    <g>\n",
              "        <path d=\"M19 3H5c-1.1 0-2 .9-2 2v14c0 1.1.9 2 2 2h14c1.1 0 2-.9 2-2V5c0-1.1-.9-2-2-2zM9 17H7v-7h2v7zm4 0h-2V7h2v10zm4 0h-2v-4h2v4z\"/>\n",
              "    </g>\n",
              "</svg>\n",
              "  </button>\n",
              "\n",
              "<style>\n",
              "  .colab-df-quickchart {\n",
              "      --bg-color: #E8F0FE;\n",
              "      --fill-color: #1967D2;\n",
              "      --hover-bg-color: #E2EBFA;\n",
              "      --hover-fill-color: #174EA6;\n",
              "      --disabled-fill-color: #AAA;\n",
              "      --disabled-bg-color: #DDD;\n",
              "  }\n",
              "\n",
              "  [theme=dark] .colab-df-quickchart {\n",
              "      --bg-color: #3B4455;\n",
              "      --fill-color: #D2E3FC;\n",
              "      --hover-bg-color: #434B5C;\n",
              "      --hover-fill-color: #FFFFFF;\n",
              "      --disabled-bg-color: #3B4455;\n",
              "      --disabled-fill-color: #666;\n",
              "  }\n",
              "\n",
              "  .colab-df-quickchart {\n",
              "    background-color: var(--bg-color);\n",
              "    border: none;\n",
              "    border-radius: 50%;\n",
              "    cursor: pointer;\n",
              "    display: none;\n",
              "    fill: var(--fill-color);\n",
              "    height: 32px;\n",
              "    padding: 0;\n",
              "    width: 32px;\n",
              "  }\n",
              "\n",
              "  .colab-df-quickchart:hover {\n",
              "    background-color: var(--hover-bg-color);\n",
              "    box-shadow: 0 1px 2px rgba(60, 64, 67, 0.3), 0 1px 3px 1px rgba(60, 64, 67, 0.15);\n",
              "    fill: var(--button-hover-fill-color);\n",
              "  }\n",
              "\n",
              "  .colab-df-quickchart-complete:disabled,\n",
              "  .colab-df-quickchart-complete:disabled:hover {\n",
              "    background-color: var(--disabled-bg-color);\n",
              "    fill: var(--disabled-fill-color);\n",
              "    box-shadow: none;\n",
              "  }\n",
              "\n",
              "  .colab-df-spinner {\n",
              "    border: 2px solid var(--fill-color);\n",
              "    border-color: transparent;\n",
              "    border-bottom-color: var(--fill-color);\n",
              "    animation:\n",
              "      spin 1s steps(1) infinite;\n",
              "  }\n",
              "\n",
              "  @keyframes spin {\n",
              "    0% {\n",
              "      border-color: transparent;\n",
              "      border-bottom-color: var(--fill-color);\n",
              "      border-left-color: var(--fill-color);\n",
              "    }\n",
              "    20% {\n",
              "      border-color: transparent;\n",
              "      border-left-color: var(--fill-color);\n",
              "      border-top-color: var(--fill-color);\n",
              "    }\n",
              "    30% {\n",
              "      border-color: transparent;\n",
              "      border-left-color: var(--fill-color);\n",
              "      border-top-color: var(--fill-color);\n",
              "      border-right-color: var(--fill-color);\n",
              "    }\n",
              "    40% {\n",
              "      border-color: transparent;\n",
              "      border-right-color: var(--fill-color);\n",
              "      border-top-color: var(--fill-color);\n",
              "    }\n",
              "    60% {\n",
              "      border-color: transparent;\n",
              "      border-right-color: var(--fill-color);\n",
              "    }\n",
              "    80% {\n",
              "      border-color: transparent;\n",
              "      border-right-color: var(--fill-color);\n",
              "      border-bottom-color: var(--fill-color);\n",
              "    }\n",
              "    90% {\n",
              "      border-color: transparent;\n",
              "      border-bottom-color: var(--fill-color);\n",
              "    }\n",
              "  }\n",
              "</style>\n",
              "\n",
              "  <script>\n",
              "    async function quickchart(key) {\n",
              "      const quickchartButtonEl =\n",
              "        document.querySelector('#' + key + ' button');\n",
              "      quickchartButtonEl.disabled = true;  // To prevent multiple clicks.\n",
              "      quickchartButtonEl.classList.add('colab-df-spinner');\n",
              "      try {\n",
              "        const charts = await google.colab.kernel.invokeFunction(\n",
              "            'suggestCharts', [key], {});\n",
              "      } catch (error) {\n",
              "        console.error('Error during call to suggestCharts:', error);\n",
              "      }\n",
              "      quickchartButtonEl.classList.remove('colab-df-spinner');\n",
              "      quickchartButtonEl.classList.add('colab-df-quickchart-complete');\n",
              "    }\n",
              "    (() => {\n",
              "      let quickchartButtonEl =\n",
              "        document.querySelector('#df-412a593d-61dc-4975-acb7-5454f9c53e9f button');\n",
              "      quickchartButtonEl.style.display =\n",
              "        google.colab.kernel.accessAllowed ? 'block' : 'none';\n",
              "    })();\n",
              "  </script>\n",
              "</div>\n",
              "\n",
              "  <div id=\"id_7f8759cc-8393-4437-9c13-40890d533378\">\n",
              "    <style>\n",
              "      .colab-df-generate {\n",
              "        background-color: #E8F0FE;\n",
              "        border: none;\n",
              "        border-radius: 50%;\n",
              "        cursor: pointer;\n",
              "        display: none;\n",
              "        fill: #1967D2;\n",
              "        height: 32px;\n",
              "        padding: 0 0 0 0;\n",
              "        width: 32px;\n",
              "      }\n",
              "\n",
              "      .colab-df-generate:hover {\n",
              "        background-color: #E2EBFA;\n",
              "        box-shadow: 0px 1px 2px rgba(60, 64, 67, 0.3), 0px 1px 3px 1px rgba(60, 64, 67, 0.15);\n",
              "        fill: #174EA6;\n",
              "      }\n",
              "\n",
              "      [theme=dark] .colab-df-generate {\n",
              "        background-color: #3B4455;\n",
              "        fill: #D2E3FC;\n",
              "      }\n",
              "\n",
              "      [theme=dark] .colab-df-generate:hover {\n",
              "        background-color: #434B5C;\n",
              "        box-shadow: 0px 1px 3px 1px rgba(0, 0, 0, 0.15);\n",
              "        filter: drop-shadow(0px 1px 2px rgba(0, 0, 0, 0.3));\n",
              "        fill: #FFFFFF;\n",
              "      }\n",
              "    </style>\n",
              "    <button class=\"colab-df-generate\" onclick=\"generateWithVariable('df')\"\n",
              "            title=\"Generate code using this dataframe.\"\n",
              "            style=\"display:none;\">\n",
              "\n",
              "  <svg xmlns=\"http://www.w3.org/2000/svg\" height=\"24px\"viewBox=\"0 0 24 24\"\n",
              "       width=\"24px\">\n",
              "    <path d=\"M7,19H8.4L18.45,9,17,7.55,7,17.6ZM5,21V16.75L18.45,3.32a2,2,0,0,1,2.83,0l1.4,1.43a1.91,1.91,0,0,1,.58,1.4,1.91,1.91,0,0,1-.58,1.4L9.25,21ZM18.45,9,17,7.55Zm-12,3A5.31,5.31,0,0,0,4.9,8.1,5.31,5.31,0,0,0,1,6.5,5.31,5.31,0,0,0,4.9,4.9,5.31,5.31,0,0,0,6.5,1,5.31,5.31,0,0,0,8.1,4.9,5.31,5.31,0,0,0,12,6.5,5.46,5.46,0,0,0,6.5,12Z\"/>\n",
              "  </svg>\n",
              "    </button>\n",
              "    <script>\n",
              "      (() => {\n",
              "      const buttonEl =\n",
              "        document.querySelector('#id_7f8759cc-8393-4437-9c13-40890d533378 button.colab-df-generate');\n",
              "      buttonEl.style.display =\n",
              "        google.colab.kernel.accessAllowed ? 'block' : 'none';\n",
              "\n",
              "      buttonEl.onclick = () => {\n",
              "        google.colab.notebook.generateWithVariable('df');\n",
              "      }\n",
              "      })();\n",
              "    </script>\n",
              "  </div>\n",
              "\n",
              "    </div>\n",
              "  </div>\n"
            ],
            "application/vnd.google.colaboratory.intrinsic+json": {
              "type": "dataframe",
              "variable_name": "df",
              "summary": "{\n  \"name\": \"df\",\n  \"rows\": 4,\n  \"fields\": [\n    {\n      \"column\": \"Proyecto\",\n      \"properties\": {\n        \"dtype\": \"string\",\n        \"num_unique_values\": 4,\n        \"samples\": [\n          \"Viento Pacifico\",\n          \"Bio Norte\",\n          \"Solar Andes\"\n        ],\n        \"semantic_type\": \"\",\n        \"description\": \"\"\n      }\n    },\n    {\n      \"column\": \"Capacidad (MW)\",\n      \"properties\": {\n        \"dtype\": \"number\",\n        \"std\": 179,\n        \"min\": 100,\n        \"max\": 500,\n        \"num_unique_values\": 4,\n        \"samples\": [\n          200,\n          100,\n          150\n        ],\n        \"semantic_type\": \"\",\n        \"description\": \"\"\n      }\n    },\n    {\n      \"column\": \"Ubicacion\",\n      \"properties\": {\n        \"dtype\": \"string\",\n        \"num_unique_values\": 4,\n        \"samples\": [\n          \"Per\\u00fa\",\n          \"Colombia\",\n          \"Chile\"\n        ],\n        \"semantic_type\": \"\",\n        \"description\": \"\"\n      }\n    }\n  ]\n}"
            }
          },
          "metadata": {},
          "execution_count": 12
        }
      ]
    },
    {
      "cell_type": "code",
      "source": [
        "\"\"\"\n",
        "Gestion de Proyectos de Energias Renovables\n",
        "\"\"\"\n",
        "\n",
        "import pandas as pd\n",
        "\n",
        "proyectos_renovables = {\n",
        "    \"Proyecto\": [\"Solar Andes\", \"Viento Pacifico\", \"Hidro Amazonas\", \"Bio Norte\"],\n",
        "    \"Capacidad (MW)\": [150, 200, 500, 100],\n",
        "    \"Ubicacion\": [\"Chile\", \"Perú\", \"Brasil\", \"Colombia\"]\n",
        "    }\n",
        "\n",
        "\n",
        "df = pd.DataFrame(proyectos_renovables)\n",
        "print(f'\\n{\"PROYECTOS DE ENERGIAS RENOVABLES\":^50}')\n",
        "df\n",
        "\n",
        "c = df.loc[df[\"Proyecto\"] == \"Viento Pacifico\", \"Capacidad (MW)\"].values[0]\n",
        "u = df.loc[df[\"Proyecto\"] == \"Viento Pacifico\", \"Ubicacion\"].values[0]\n",
        "consulta = df.loc[df[\"Proyecto\"] == \"Viento Pacifico\", [\"Capacidad (MW)\", \"Ubicacion\"]].values[0]\n",
        "\n",
        "#print(f'El proyecto esta en {u} y tiene una produccion en {c} MW')\n",
        "print(f'El proyecto esta en {consulta[1]} y tiene una produccion en {consulta[0]} MW')"
      ],
      "metadata": {
        "colab": {
          "base_uri": "https://localhost:8080/"
        },
        "id": "pa4tJfDH0Elg",
        "outputId": "18918a6e-79dd-4d4f-a09e-1ca731a9ccd7"
      },
      "execution_count": null,
      "outputs": [
        {
          "output_type": "stream",
          "name": "stdout",
          "text": [
            "\n",
            "         PROYECTOS DE ENERGIAS RENOVABLES         \n",
            "El proyecto esta en Perú y tiene una produccion en 200 MW\n"
          ]
        }
      ]
    },
    {
      "cell_type": "code",
      "source": [
        "deepl"
      ],
      "metadata": {
        "id": "5Mv8y55DzQJX"
      },
      "execution_count": null,
      "outputs": []
    },
    {
      "cell_type": "code",
      "source": [
        "import pandas as pd\n",
        "\n",
        "proyectos_renovables = {\n",
        "    \"Proyecto\": [\"Solar Andes\", \"Viento Pacifico\", \"Hidro Amazonas\", \"Bio Norte\"],\n",
        "    \"Capacidad (MW)\": [150, 200, 500, 100],\n",
        "    \"Ubicacion\": [\"Chile\", \"Perú\", \"Brasil\", \"Colombia\"]\n",
        "    }\n",
        "\n",
        "df = pd.DataFrame(proyectos_renovables)\n",
        "print(f'\\n{\"PROYECTOS DE ENERGIAS RENOVABLES\":^50}')\n",
        "print(df)\n",
        "\n"
      ],
      "metadata": {
        "colab": {
          "base_uri": "https://localhost:8080/"
        },
        "id": "9qDmIw8d9rUb",
        "outputId": "b5dad50c-133a-48bb-90b8-d8d9ad7f31c0"
      },
      "execution_count": null,
      "outputs": [
        {
          "output_type": "stream",
          "name": "stdout",
          "text": [
            "\n",
            "         PROYECTOS DE ENERGIAS RENOVABLES         \n",
            "          Proyecto  Capacidad (MW) Ubicacion\n",
            "0      Solar Andes             150     Chile\n",
            "1  Viento Pacifico             200      Perú\n",
            "2   Hidro Amazonas             500    Brasil\n",
            "3        Bio Norte             100  Colombia\n"
          ]
        }
      ]
    },
    {
      "cell_type": "code",
      "source": [
        "import pandas as pd\n",
        "\n",
        "proyectos_renovables = {\n",
        "    \"Proyecto\": [\"Solar Andes\", \"Viento Pacifico\", \"Hidro Amazonas\", \"Bio Norte\"],\n",
        "    \"Capacidad (MW)\": [150, 200, 500, 100],\n",
        "    \"Ubicacion\": [\"Chile\", \"Perú\", \"Brasil\", \"Colombia\"]\n",
        "    }\n",
        "\n",
        "df = pd.DataFrame(proyectos_renovables)\n",
        "\n",
        "#proyectos = df[\"Proyecto\"].tolist()\n",
        "proyectos = list(df[\"Proyecto\"])\n",
        "proyecto_consultar = input(f\"Elija uno de los siguientes proyectos: {proyectos}\\n\\n\")\n",
        "\n",
        "if proyecto_consultar in proyectos:\n",
        "    capacidad = df.loc[df[\"Proyecto\"] == proyecto_consultar, \"Capacidad (MW)\"].values[0]        #Tambien Existen, (index[], name[])\n",
        "    print(f'\\nCapacidad del proyecto \"{proyecto_consultar}\": {capacidad} MW')\n",
        "else:\n",
        "    print(\"\\n Error: El proyecto ingresado no se encuentra en la lista. \")"
      ],
      "metadata": {
        "id": "Zsbbu8fKOIHA",
        "colab": {
          "base_uri": "https://localhost:8080/"
        },
        "outputId": "7509fa85-2c86-4539-e49d-305936875800"
      },
      "execution_count": null,
      "outputs": [
        {
          "output_type": "stream",
          "name": "stdout",
          "text": [
            "Elija uno de los siguientes proyectos: ['Solar Andes', 'Viento Pacifico', 'Hidro Amazonas', 'Bio Norte']\n",
            "\n",
            "Bio Norte\n",
            "\n",
            "Capacidad del proyecto \"Bio Norte\": 100 MW\n"
          ]
        }
      ]
    },
    {
      "cell_type": "code",
      "source": [
        "#Carga de datos / Analisis Exploratorio de Datos\n",
        "\n",
        "import pandas as pd\n",
        "\n",
        "#Carga de datos de una URL\n",
        "url = \"https://raw.githubusercontent.com/juliandariogiraldoocampo/datosEsp/main/CountryWiseGoal.csv\"\n",
        "\n",
        "#Mostrar las primeras filas del DF\n",
        "df = pd.read_csv(url)\n",
        "\n",
        "df.head(40)\n",
        "df.tail(40)\n",
        "df.info()\n",
        "df.describe()\n",
        "df.shape\n",
        "df.isnull().sum()"
      ],
      "metadata": {
        "colab": {
          "base_uri": "https://localhost:8080/"
        },
        "id": "lpjwsW8vyycT",
        "outputId": "12b15940-c6fd-4442-dbf9-33664327ca1b"
      },
      "execution_count": null,
      "outputs": [
        {
          "output_type": "execute_result",
          "data": {
            "text/plain": [
              "(193, 19)"
            ]
          },
          "metadata": {},
          "execution_count": 29
        }
      ]
    },
    {
      "cell_type": "code",
      "source": [
        "df.info()"
      ],
      "metadata": {
        "colab": {
          "base_uri": "https://localhost:8080/"
        },
        "id": "CUBrO9pbCLx1",
        "outputId": "7b20265f-0714-472d-c992-2c8347c660e4"
      },
      "execution_count": null,
      "outputs": [
        {
          "output_type": "stream",
          "name": "stdout",
          "text": [
            "<class 'pandas.core.frame.DataFrame'>\n",
            "RangeIndex: 193 entries, 0 to 192\n",
            "Data columns (total 19 columns):\n",
            " #   Column       Non-Null Count  Dtype  \n",
            "---  ------       --------------  -----  \n",
            " 0   geoAreaCode  193 non-null    int64  \n",
            " 1   geoAreaName  193 non-null    object \n",
            " 2   goal1        193 non-null    float64\n",
            " 3   goal2        193 non-null    float64\n",
            " 4   goal3        193 non-null    float64\n",
            " 5   goal4        193 non-null    float64\n",
            " 6   goal5        193 non-null    float64\n",
            " 7   goal6        193 non-null    float64\n",
            " 8   goal7        193 non-null    int64  \n",
            " 9   goal8        193 non-null    float64\n",
            " 10  goal9        193 non-null    float64\n",
            " 11  goal10       193 non-null    float64\n",
            " 12  goal11       193 non-null    float64\n",
            " 13  goal12       193 non-null    float64\n",
            " 14  goal13       193 non-null    float64\n",
            " 15  goal14       193 non-null    float64\n",
            " 16  goal15       193 non-null    float64\n",
            " 17  goal16       193 non-null    float64\n",
            " 18  goal17       193 non-null    float64\n",
            "dtypes: float64(16), int64(2), object(1)\n",
            "memory usage: 28.8+ KB\n"
          ]
        }
      ]
    },
    {
      "cell_type": "code",
      "source": [
        "df.describe()"
      ],
      "metadata": {
        "colab": {
          "base_uri": "https://localhost:8080/",
          "height": 320
        },
        "id": "dhYAbtXIGvEc",
        "outputId": "726b7182-6b9c-4cd5-8b0b-6757e342db35"
      },
      "execution_count": null,
      "outputs": [
        {
          "output_type": "execute_result",
          "data": {
            "text/plain": [
              "       geoAreaCode       goal1       goal2       goal3       goal4  \\\n",
              "count   193.000000  193.000000  193.000000  193.000000  193.000000   \n",
              "mean    433.279793   30.256321   66.517876   67.116684   29.337150   \n",
              "std     254.431053   13.014793    4.723671   12.028320   12.744143   \n",
              "min       4.000000    5.950000   56.250000    7.690000    6.300000   \n",
              "25%     212.000000   19.390000   65.630000   63.210000   19.950000   \n",
              "50%     430.000000   30.000000   65.630000   69.870000   29.260000   \n",
              "75%     659.000000   37.960000   65.630000   73.850000   36.930000   \n",
              "max     894.000000   61.630000   83.330000   83.080000   68.140000   \n",
              "\n",
              "            goal5       goal6       goal7       goal8       goal9      goal10  \\\n",
              "count  193.000000  193.000000  193.000000  193.000000  193.000000  193.000000   \n",
              "mean    17.852591   59.328497   87.305699   45.983834   63.276062   46.024145   \n",
              "std      8.854306   10.711223   18.735962   15.305151   18.371677   10.872672   \n",
              "min      8.330000   27.250000   20.000000    8.330000   23.440000    5.560000   \n",
              "25%      8.330000   52.210000   60.000000   33.330000   48.440000   36.670000   \n",
              "50%     15.280000   60.430000  100.000000   43.750000   67.190000   46.670000   \n",
              "75%     25.000000   66.810000  100.000000   58.330000   79.690000   53.330000   \n",
              "max     38.890000   81.380000  100.000000   79.170000   85.940000   73.570000   \n",
              "\n",
              "           goal11      goal12      goal13      goal14      goal15      goal16  \\\n",
              "count  193.000000  193.000000  193.000000  193.000000  193.000000  193.000000   \n",
              "mean    19.803731   27.750104    8.757668   42.580674   45.849119   15.352746   \n",
              "std      9.154361    7.298917    7.022517    7.226002    4.369039    4.952160   \n",
              "min      0.000000    0.910000    0.000000   30.000000   30.710000    1.520000   \n",
              "25%     15.000000   25.450000    0.000000   37.500000   45.300000   12.500000   \n",
              "50%     17.780000   27.170000    8.890000   40.000000   47.380000   15.970000   \n",
              "75%     26.110000   35.450000   15.330000   43.330000   47.380000   18.190000   \n",
              "max     39.630000   41.200000   21.000000   63.330000   49.760000   38.560000   \n",
              "\n",
              "           goal17  \n",
              "count  193.000000  \n",
              "mean    50.187098  \n",
              "std      9.750369  \n",
              "min     18.570000  \n",
              "25%     42.860000  \n",
              "50%     52.670000  \n",
              "75%     58.930000  \n",
              "max     60.190000  "
            ],
            "text/html": [
              "\n",
              "  <div id=\"df-ff2038e5-6be1-4e2f-bf43-8291722787da\" class=\"colab-df-container\">\n",
              "    <div>\n",
              "<style scoped>\n",
              "    .dataframe tbody tr th:only-of-type {\n",
              "        vertical-align: middle;\n",
              "    }\n",
              "\n",
              "    .dataframe tbody tr th {\n",
              "        vertical-align: top;\n",
              "    }\n",
              "\n",
              "    .dataframe thead th {\n",
              "        text-align: right;\n",
              "    }\n",
              "</style>\n",
              "<table border=\"1\" class=\"dataframe\">\n",
              "  <thead>\n",
              "    <tr style=\"text-align: right;\">\n",
              "      <th></th>\n",
              "      <th>geoAreaCode</th>\n",
              "      <th>goal1</th>\n",
              "      <th>goal2</th>\n",
              "      <th>goal3</th>\n",
              "      <th>goal4</th>\n",
              "      <th>goal5</th>\n",
              "      <th>goal6</th>\n",
              "      <th>goal7</th>\n",
              "      <th>goal8</th>\n",
              "      <th>goal9</th>\n",
              "      <th>goal10</th>\n",
              "      <th>goal11</th>\n",
              "      <th>goal12</th>\n",
              "      <th>goal13</th>\n",
              "      <th>goal14</th>\n",
              "      <th>goal15</th>\n",
              "      <th>goal16</th>\n",
              "      <th>goal17</th>\n",
              "    </tr>\n",
              "  </thead>\n",
              "  <tbody>\n",
              "    <tr>\n",
              "      <th>count</th>\n",
              "      <td>193.000000</td>\n",
              "      <td>193.000000</td>\n",
              "      <td>193.000000</td>\n",
              "      <td>193.000000</td>\n",
              "      <td>193.000000</td>\n",
              "      <td>193.000000</td>\n",
              "      <td>193.000000</td>\n",
              "      <td>193.000000</td>\n",
              "      <td>193.000000</td>\n",
              "      <td>193.000000</td>\n",
              "      <td>193.000000</td>\n",
              "      <td>193.000000</td>\n",
              "      <td>193.000000</td>\n",
              "      <td>193.000000</td>\n",
              "      <td>193.000000</td>\n",
              "      <td>193.000000</td>\n",
              "      <td>193.000000</td>\n",
              "      <td>193.000000</td>\n",
              "    </tr>\n",
              "    <tr>\n",
              "      <th>mean</th>\n",
              "      <td>433.279793</td>\n",
              "      <td>30.256321</td>\n",
              "      <td>66.517876</td>\n",
              "      <td>67.116684</td>\n",
              "      <td>29.337150</td>\n",
              "      <td>17.852591</td>\n",
              "      <td>59.328497</td>\n",
              "      <td>87.305699</td>\n",
              "      <td>45.983834</td>\n",
              "      <td>63.276062</td>\n",
              "      <td>46.024145</td>\n",
              "      <td>19.803731</td>\n",
              "      <td>27.750104</td>\n",
              "      <td>8.757668</td>\n",
              "      <td>42.580674</td>\n",
              "      <td>45.849119</td>\n",
              "      <td>15.352746</td>\n",
              "      <td>50.187098</td>\n",
              "    </tr>\n",
              "    <tr>\n",
              "      <th>std</th>\n",
              "      <td>254.431053</td>\n",
              "      <td>13.014793</td>\n",
              "      <td>4.723671</td>\n",
              "      <td>12.028320</td>\n",
              "      <td>12.744143</td>\n",
              "      <td>8.854306</td>\n",
              "      <td>10.711223</td>\n",
              "      <td>18.735962</td>\n",
              "      <td>15.305151</td>\n",
              "      <td>18.371677</td>\n",
              "      <td>10.872672</td>\n",
              "      <td>9.154361</td>\n",
              "      <td>7.298917</td>\n",
              "      <td>7.022517</td>\n",
              "      <td>7.226002</td>\n",
              "      <td>4.369039</td>\n",
              "      <td>4.952160</td>\n",
              "      <td>9.750369</td>\n",
              "    </tr>\n",
              "    <tr>\n",
              "      <th>min</th>\n",
              "      <td>4.000000</td>\n",
              "      <td>5.950000</td>\n",
              "      <td>56.250000</td>\n",
              "      <td>7.690000</td>\n",
              "      <td>6.300000</td>\n",
              "      <td>8.330000</td>\n",
              "      <td>27.250000</td>\n",
              "      <td>20.000000</td>\n",
              "      <td>8.330000</td>\n",
              "      <td>23.440000</td>\n",
              "      <td>5.560000</td>\n",
              "      <td>0.000000</td>\n",
              "      <td>0.910000</td>\n",
              "      <td>0.000000</td>\n",
              "      <td>30.000000</td>\n",
              "      <td>30.710000</td>\n",
              "      <td>1.520000</td>\n",
              "      <td>18.570000</td>\n",
              "    </tr>\n",
              "    <tr>\n",
              "      <th>25%</th>\n",
              "      <td>212.000000</td>\n",
              "      <td>19.390000</td>\n",
              "      <td>65.630000</td>\n",
              "      <td>63.210000</td>\n",
              "      <td>19.950000</td>\n",
              "      <td>8.330000</td>\n",
              "      <td>52.210000</td>\n",
              "      <td>60.000000</td>\n",
              "      <td>33.330000</td>\n",
              "      <td>48.440000</td>\n",
              "      <td>36.670000</td>\n",
              "      <td>15.000000</td>\n",
              "      <td>25.450000</td>\n",
              "      <td>0.000000</td>\n",
              "      <td>37.500000</td>\n",
              "      <td>45.300000</td>\n",
              "      <td>12.500000</td>\n",
              "      <td>42.860000</td>\n",
              "    </tr>\n",
              "    <tr>\n",
              "      <th>50%</th>\n",
              "      <td>430.000000</td>\n",
              "      <td>30.000000</td>\n",
              "      <td>65.630000</td>\n",
              "      <td>69.870000</td>\n",
              "      <td>29.260000</td>\n",
              "      <td>15.280000</td>\n",
              "      <td>60.430000</td>\n",
              "      <td>100.000000</td>\n",
              "      <td>43.750000</td>\n",
              "      <td>67.190000</td>\n",
              "      <td>46.670000</td>\n",
              "      <td>17.780000</td>\n",
              "      <td>27.170000</td>\n",
              "      <td>8.890000</td>\n",
              "      <td>40.000000</td>\n",
              "      <td>47.380000</td>\n",
              "      <td>15.970000</td>\n",
              "      <td>52.670000</td>\n",
              "    </tr>\n",
              "    <tr>\n",
              "      <th>75%</th>\n",
              "      <td>659.000000</td>\n",
              "      <td>37.960000</td>\n",
              "      <td>65.630000</td>\n",
              "      <td>73.850000</td>\n",
              "      <td>36.930000</td>\n",
              "      <td>25.000000</td>\n",
              "      <td>66.810000</td>\n",
              "      <td>100.000000</td>\n",
              "      <td>58.330000</td>\n",
              "      <td>79.690000</td>\n",
              "      <td>53.330000</td>\n",
              "      <td>26.110000</td>\n",
              "      <td>35.450000</td>\n",
              "      <td>15.330000</td>\n",
              "      <td>43.330000</td>\n",
              "      <td>47.380000</td>\n",
              "      <td>18.190000</td>\n",
              "      <td>58.930000</td>\n",
              "    </tr>\n",
              "    <tr>\n",
              "      <th>max</th>\n",
              "      <td>894.000000</td>\n",
              "      <td>61.630000</td>\n",
              "      <td>83.330000</td>\n",
              "      <td>83.080000</td>\n",
              "      <td>68.140000</td>\n",
              "      <td>38.890000</td>\n",
              "      <td>81.380000</td>\n",
              "      <td>100.000000</td>\n",
              "      <td>79.170000</td>\n",
              "      <td>85.940000</td>\n",
              "      <td>73.570000</td>\n",
              "      <td>39.630000</td>\n",
              "      <td>41.200000</td>\n",
              "      <td>21.000000</td>\n",
              "      <td>63.330000</td>\n",
              "      <td>49.760000</td>\n",
              "      <td>38.560000</td>\n",
              "      <td>60.190000</td>\n",
              "    </tr>\n",
              "  </tbody>\n",
              "</table>\n",
              "</div>\n",
              "    <div class=\"colab-df-buttons\">\n",
              "\n",
              "  <div class=\"colab-df-container\">\n",
              "    <button class=\"colab-df-convert\" onclick=\"convertToInteractive('df-ff2038e5-6be1-4e2f-bf43-8291722787da')\"\n",
              "            title=\"Convert this dataframe to an interactive table.\"\n",
              "            style=\"display:none;\">\n",
              "\n",
              "  <svg xmlns=\"http://www.w3.org/2000/svg\" height=\"24px\" viewBox=\"0 -960 960 960\">\n",
              "    <path d=\"M120-120v-720h720v720H120Zm60-500h600v-160H180v160Zm220 220h160v-160H400v160Zm0 220h160v-160H400v160ZM180-400h160v-160H180v160Zm440 0h160v-160H620v160ZM180-180h160v-160H180v160Zm440 0h160v-160H620v160Z\"/>\n",
              "  </svg>\n",
              "    </button>\n",
              "\n",
              "  <style>\n",
              "    .colab-df-container {\n",
              "      display:flex;\n",
              "      gap: 12px;\n",
              "    }\n",
              "\n",
              "    .colab-df-convert {\n",
              "      background-color: #E8F0FE;\n",
              "      border: none;\n",
              "      border-radius: 50%;\n",
              "      cursor: pointer;\n",
              "      display: none;\n",
              "      fill: #1967D2;\n",
              "      height: 32px;\n",
              "      padding: 0 0 0 0;\n",
              "      width: 32px;\n",
              "    }\n",
              "\n",
              "    .colab-df-convert:hover {\n",
              "      background-color: #E2EBFA;\n",
              "      box-shadow: 0px 1px 2px rgba(60, 64, 67, 0.3), 0px 1px 3px 1px rgba(60, 64, 67, 0.15);\n",
              "      fill: #174EA6;\n",
              "    }\n",
              "\n",
              "    .colab-df-buttons div {\n",
              "      margin-bottom: 4px;\n",
              "    }\n",
              "\n",
              "    [theme=dark] .colab-df-convert {\n",
              "      background-color: #3B4455;\n",
              "      fill: #D2E3FC;\n",
              "    }\n",
              "\n",
              "    [theme=dark] .colab-df-convert:hover {\n",
              "      background-color: #434B5C;\n",
              "      box-shadow: 0px 1px 3px 1px rgba(0, 0, 0, 0.15);\n",
              "      filter: drop-shadow(0px 1px 2px rgba(0, 0, 0, 0.3));\n",
              "      fill: #FFFFFF;\n",
              "    }\n",
              "  </style>\n",
              "\n",
              "    <script>\n",
              "      const buttonEl =\n",
              "        document.querySelector('#df-ff2038e5-6be1-4e2f-bf43-8291722787da button.colab-df-convert');\n",
              "      buttonEl.style.display =\n",
              "        google.colab.kernel.accessAllowed ? 'block' : 'none';\n",
              "\n",
              "      async function convertToInteractive(key) {\n",
              "        const element = document.querySelector('#df-ff2038e5-6be1-4e2f-bf43-8291722787da');\n",
              "        const dataTable =\n",
              "          await google.colab.kernel.invokeFunction('convertToInteractive',\n",
              "                                                    [key], {});\n",
              "        if (!dataTable) return;\n",
              "\n",
              "        const docLinkHtml = 'Like what you see? Visit the ' +\n",
              "          '<a target=\"_blank\" href=https://colab.research.google.com/notebooks/data_table.ipynb>data table notebook</a>'\n",
              "          + ' to learn more about interactive tables.';\n",
              "        element.innerHTML = '';\n",
              "        dataTable['output_type'] = 'display_data';\n",
              "        await google.colab.output.renderOutput(dataTable, element);\n",
              "        const docLink = document.createElement('div');\n",
              "        docLink.innerHTML = docLinkHtml;\n",
              "        element.appendChild(docLink);\n",
              "      }\n",
              "    </script>\n",
              "  </div>\n",
              "\n",
              "\n",
              "<div id=\"df-81837205-b103-409b-a7b8-2b72561d3739\">\n",
              "  <button class=\"colab-df-quickchart\" onclick=\"quickchart('df-81837205-b103-409b-a7b8-2b72561d3739')\"\n",
              "            title=\"Suggest charts\"\n",
              "            style=\"display:none;\">\n",
              "\n",
              "<svg xmlns=\"http://www.w3.org/2000/svg\" height=\"24px\"viewBox=\"0 0 24 24\"\n",
              "     width=\"24px\">\n",
              "    <g>\n",
              "        <path d=\"M19 3H5c-1.1 0-2 .9-2 2v14c0 1.1.9 2 2 2h14c1.1 0 2-.9 2-2V5c0-1.1-.9-2-2-2zM9 17H7v-7h2v7zm4 0h-2V7h2v10zm4 0h-2v-4h2v4z\"/>\n",
              "    </g>\n",
              "</svg>\n",
              "  </button>\n",
              "\n",
              "<style>\n",
              "  .colab-df-quickchart {\n",
              "      --bg-color: #E8F0FE;\n",
              "      --fill-color: #1967D2;\n",
              "      --hover-bg-color: #E2EBFA;\n",
              "      --hover-fill-color: #174EA6;\n",
              "      --disabled-fill-color: #AAA;\n",
              "      --disabled-bg-color: #DDD;\n",
              "  }\n",
              "\n",
              "  [theme=dark] .colab-df-quickchart {\n",
              "      --bg-color: #3B4455;\n",
              "      --fill-color: #D2E3FC;\n",
              "      --hover-bg-color: #434B5C;\n",
              "      --hover-fill-color: #FFFFFF;\n",
              "      --disabled-bg-color: #3B4455;\n",
              "      --disabled-fill-color: #666;\n",
              "  }\n",
              "\n",
              "  .colab-df-quickchart {\n",
              "    background-color: var(--bg-color);\n",
              "    border: none;\n",
              "    border-radius: 50%;\n",
              "    cursor: pointer;\n",
              "    display: none;\n",
              "    fill: var(--fill-color);\n",
              "    height: 32px;\n",
              "    padding: 0;\n",
              "    width: 32px;\n",
              "  }\n",
              "\n",
              "  .colab-df-quickchart:hover {\n",
              "    background-color: var(--hover-bg-color);\n",
              "    box-shadow: 0 1px 2px rgba(60, 64, 67, 0.3), 0 1px 3px 1px rgba(60, 64, 67, 0.15);\n",
              "    fill: var(--button-hover-fill-color);\n",
              "  }\n",
              "\n",
              "  .colab-df-quickchart-complete:disabled,\n",
              "  .colab-df-quickchart-complete:disabled:hover {\n",
              "    background-color: var(--disabled-bg-color);\n",
              "    fill: var(--disabled-fill-color);\n",
              "    box-shadow: none;\n",
              "  }\n",
              "\n",
              "  .colab-df-spinner {\n",
              "    border: 2px solid var(--fill-color);\n",
              "    border-color: transparent;\n",
              "    border-bottom-color: var(--fill-color);\n",
              "    animation:\n",
              "      spin 1s steps(1) infinite;\n",
              "  }\n",
              "\n",
              "  @keyframes spin {\n",
              "    0% {\n",
              "      border-color: transparent;\n",
              "      border-bottom-color: var(--fill-color);\n",
              "      border-left-color: var(--fill-color);\n",
              "    }\n",
              "    20% {\n",
              "      border-color: transparent;\n",
              "      border-left-color: var(--fill-color);\n",
              "      border-top-color: var(--fill-color);\n",
              "    }\n",
              "    30% {\n",
              "      border-color: transparent;\n",
              "      border-left-color: var(--fill-color);\n",
              "      border-top-color: var(--fill-color);\n",
              "      border-right-color: var(--fill-color);\n",
              "    }\n",
              "    40% {\n",
              "      border-color: transparent;\n",
              "      border-right-color: var(--fill-color);\n",
              "      border-top-color: var(--fill-color);\n",
              "    }\n",
              "    60% {\n",
              "      border-color: transparent;\n",
              "      border-right-color: var(--fill-color);\n",
              "    }\n",
              "    80% {\n",
              "      border-color: transparent;\n",
              "      border-right-color: var(--fill-color);\n",
              "      border-bottom-color: var(--fill-color);\n",
              "    }\n",
              "    90% {\n",
              "      border-color: transparent;\n",
              "      border-bottom-color: var(--fill-color);\n",
              "    }\n",
              "  }\n",
              "</style>\n",
              "\n",
              "  <script>\n",
              "    async function quickchart(key) {\n",
              "      const quickchartButtonEl =\n",
              "        document.querySelector('#' + key + ' button');\n",
              "      quickchartButtonEl.disabled = true;  // To prevent multiple clicks.\n",
              "      quickchartButtonEl.classList.add('colab-df-spinner');\n",
              "      try {\n",
              "        const charts = await google.colab.kernel.invokeFunction(\n",
              "            'suggestCharts', [key], {});\n",
              "      } catch (error) {\n",
              "        console.error('Error during call to suggestCharts:', error);\n",
              "      }\n",
              "      quickchartButtonEl.classList.remove('colab-df-spinner');\n",
              "      quickchartButtonEl.classList.add('colab-df-quickchart-complete');\n",
              "    }\n",
              "    (() => {\n",
              "      let quickchartButtonEl =\n",
              "        document.querySelector('#df-81837205-b103-409b-a7b8-2b72561d3739 button');\n",
              "      quickchartButtonEl.style.display =\n",
              "        google.colab.kernel.accessAllowed ? 'block' : 'none';\n",
              "    })();\n",
              "  </script>\n",
              "</div>\n",
              "\n",
              "    </div>\n",
              "  </div>\n"
            ],
            "application/vnd.google.colaboratory.intrinsic+json": {
              "type": "dataframe",
              "summary": "{\n  \"name\": \"df\",\n  \"rows\": 8,\n  \"fields\": [\n    {\n      \"column\": \"geoAreaCode\",\n      \"properties\": {\n        \"dtype\": \"number\",\n        \"std\": 284.73425650055276,\n        \"min\": 4.0,\n        \"max\": 894.0,\n        \"num_unique_values\": 8,\n        \"samples\": [\n          433.27979274611397,\n          430.0,\n          193.0\n        ],\n        \"semantic_type\": \"\",\n        \"description\": \"\"\n      }\n    },\n    {\n      \"column\": \"goal1\",\n      \"properties\": {\n        \"dtype\": \"number\",\n        \"std\": 60.65668487993291,\n        \"min\": 5.95,\n        \"max\": 193.0,\n        \"num_unique_values\": 8,\n        \"samples\": [\n          30.256321243523317,\n          30.0,\n          193.0\n        ],\n        \"semantic_type\": \"\",\n        \"description\": \"\"\n      }\n    },\n    {\n      \"column\": \"goal2\",\n      \"properties\": {\n        \"dtype\": \"number\",\n        \"std\": 52.940650950963544,\n        \"min\": 4.72367101515929,\n        \"max\": 193.0,\n        \"num_unique_values\": 6,\n        \"samples\": [\n          193.0,\n          66.5178756476684,\n          83.33\n        ],\n        \"semantic_type\": \"\",\n        \"description\": \"\"\n      }\n    },\n    {\n      \"column\": \"goal3\",\n      \"properties\": {\n        \"dtype\": \"number\",\n        \"std\": 56.82112239521902,\n        \"min\": 7.69,\n        \"max\": 193.0,\n        \"num_unique_values\": 8,\n        \"samples\": [\n          67.11668393782384,\n          69.87,\n          193.0\n        ],\n        \"semantic_type\": \"\",\n        \"description\": \"\"\n      }\n    },\n    {\n      \"column\": \"goal4\",\n      \"properties\": {\n        \"dtype\": \"number\",\n        \"std\": 60.95000738887607,\n        \"min\": 6.3,\n        \"max\": 193.0,\n        \"num_unique_values\": 8,\n        \"samples\": [\n          29.337150259067357,\n          29.26,\n          193.0\n        ],\n        \"semantic_type\": \"\",\n        \"description\": \"\"\n      }\n    },\n    {\n      \"column\": \"goal5\",\n      \"properties\": {\n        \"dtype\": \"number\",\n        \"std\": 62.91758825886331,\n        \"min\": 8.33,\n        \"max\": 193.0,\n        \"num_unique_values\": 7,\n        \"samples\": [\n          193.0,\n          17.85259067357513,\n          25.0\n        ],\n        \"semantic_type\": \"\",\n        \"description\": \"\"\n      }\n    },\n    {\n      \"column\": \"goal6\",\n      \"properties\": {\n        \"dtype\": \"number\",\n        \"std\": 54.93306914762832,\n        \"min\": 10.711223198961068,\n        \"max\": 193.0,\n        \"num_unique_values\": 8,\n        \"samples\": [\n          59.328497409326424,\n          60.43,\n          193.0\n        ],\n        \"semantic_type\": \"\",\n        \"description\": \"\"\n      }\n    },\n    {\n      \"column\": \"goal7\",\n      \"properties\": {\n        \"dtype\": \"number\",\n        \"std\": 55.530074464049946,\n        \"min\": 18.73596192967022,\n        \"max\": 193.0,\n        \"num_unique_values\": 6,\n        \"samples\": [\n          193.0,\n          87.30569948186529,\n          100.0\n        ],\n        \"semantic_type\": \"\",\n        \"description\": \"\"\n      }\n    },\n    {\n      \"column\": \"goal8\",\n      \"properties\": {\n        \"dtype\": \"number\",\n        \"std\": 58.42885765235827,\n        \"min\": 8.33,\n        \"max\": 193.0,\n        \"num_unique_values\": 8,\n        \"samples\": [\n          45.983834196891195,\n          43.75,\n          193.0\n        ],\n        \"semantic_type\": \"\",\n        \"description\": \"\"\n      }\n    },\n    {\n      \"column\": \"goal9\",\n      \"properties\": {\n        \"dtype\": \"number\",\n        \"std\": 54.48649403311412,\n        \"min\": 18.371676769675865,\n        \"max\": 193.0,\n        \"num_unique_values\": 8,\n        \"samples\": [\n          63.276062176165816,\n          67.19,\n          193.0\n        ],\n        \"semantic_type\": \"\",\n        \"description\": \"\"\n      }\n    },\n    {\n      \"column\": \"goal10\",\n      \"properties\": {\n        \"dtype\": \"number\",\n        \"std\": 58.781157615171615,\n        \"min\": 5.56,\n        \"max\": 193.0,\n        \"num_unique_values\": 8,\n        \"samples\": [\n          46.024145077720206,\n          46.67,\n          193.0\n        ],\n        \"semantic_type\": \"\",\n        \"description\": \"\"\n      }\n    },\n    {\n      \"column\": \"goal11\",\n      \"properties\": {\n        \"dtype\": \"number\",\n        \"std\": 62.883238232517364,\n        \"min\": 0.0,\n        \"max\": 193.0,\n        \"num_unique_values\": 8,\n        \"samples\": [\n          19.80373056994819,\n          17.78,\n          193.0\n        ],\n        \"semantic_type\": \"\",\n        \"description\": \"\"\n      }\n    },\n    {\n      \"column\": \"goal12\",\n      \"properties\": {\n        \"dtype\": \"number\",\n        \"std\": 61.3796389427965,\n        \"min\": 0.91,\n        \"max\": 193.0,\n        \"num_unique_values\": 8,\n        \"samples\": [\n          27.75010362694301,\n          27.17,\n          193.0\n        ],\n        \"semantic_type\": \"\",\n        \"description\": \"\"\n      }\n    },\n    {\n      \"column\": \"goal13\",\n      \"properties\": {\n        \"dtype\": \"number\",\n        \"std\": 65.53683995505463,\n        \"min\": 0.0,\n        \"max\": 193.0,\n        \"num_unique_values\": 7,\n        \"samples\": [\n          193.0,\n          8.757668393782383,\n          15.33\n        ],\n        \"semantic_type\": \"\",\n        \"description\": \"\"\n      }\n    },\n    {\n      \"column\": \"goal14\",\n      \"properties\": {\n        \"dtype\": \"number\",\n        \"std\": 57.079441916894275,\n        \"min\": 7.226002169694774,\n        \"max\": 193.0,\n        \"num_unique_values\": 8,\n        \"samples\": [\n          42.58067357512953,\n          40.0,\n          193.0\n        ],\n        \"semantic_type\": \"\",\n        \"description\": \"\"\n      }\n    },\n    {\n      \"column\": \"goal15\",\n      \"properties\": {\n        \"dtype\": \"number\",\n        \"std\": 56.62964450099844,\n        \"min\": 4.3690390046629215,\n        \"max\": 193.0,\n        \"num_unique_values\": 7,\n        \"samples\": [\n          193.0,\n          45.84911917098446,\n          47.38\n        ],\n        \"semantic_type\": \"\",\n        \"description\": \"\"\n      }\n    },\n    {\n      \"column\": \"goal16\",\n      \"properties\": {\n        \"dtype\": \"number\",\n        \"std\": 63.793431662768555,\n        \"min\": 1.52,\n        \"max\": 193.0,\n        \"num_unique_values\": 8,\n        \"samples\": [\n          15.352746113989637,\n          15.97,\n          193.0\n        ],\n        \"semantic_type\": \"\",\n        \"description\": \"\"\n      }\n    },\n    {\n      \"column\": \"goal17\",\n      \"properties\": {\n        \"dtype\": \"number\",\n        \"std\": 56.53155068124259,\n        \"min\": 9.750368950051735,\n        \"max\": 193.0,\n        \"num_unique_values\": 8,\n        \"samples\": [\n          50.18709844559585,\n          52.67,\n          193.0\n        ],\n        \"semantic_type\": \"\",\n        \"description\": \"\"\n      }\n    }\n  ]\n}"
            }
          },
          "metadata": {},
          "execution_count": 26
        }
      ]
    },
    {
      "cell_type": "code",
      "source": [
        "df.shape"
      ],
      "metadata": {
        "colab": {
          "base_uri": "https://localhost:8080/"
        },
        "id": "LDFCzSvrJLwg",
        "outputId": "493a8ae0-f8cc-4e1a-91cb-560270e3adcb"
      },
      "execution_count": null,
      "outputs": [
        {
          "output_type": "execute_result",
          "data": {
            "text/plain": [
              "(193, 19)"
            ]
          },
          "metadata": {},
          "execution_count": 30
        }
      ]
    },
    {
      "cell_type": "code",
      "source": [
        "#Datos/Valores nulos\n",
        "\n",
        "df.isnull().sum()"
      ],
      "metadata": {
        "colab": {
          "base_uri": "https://localhost:8080/",
          "height": 680
        },
        "id": "sd0ZD3vBJkP1",
        "outputId": "e8dd80f3-afef-43a7-ae0a-6202a79be252"
      },
      "execution_count": null,
      "outputs": [
        {
          "output_type": "execute_result",
          "data": {
            "text/plain": [
              "geoAreaCode    0\n",
              "geoAreaName    0\n",
              "goal1          0\n",
              "goal2          0\n",
              "goal3          0\n",
              "goal4          0\n",
              "goal5          0\n",
              "goal6          0\n",
              "goal7          0\n",
              "goal8          0\n",
              "goal9          0\n",
              "goal10         0\n",
              "goal11         0\n",
              "goal12         0\n",
              "goal13         0\n",
              "goal14         0\n",
              "goal15         0\n",
              "goal16         0\n",
              "goal17         0\n",
              "dtype: int64"
            ],
            "text/html": [
              "<div>\n",
              "<style scoped>\n",
              "    .dataframe tbody tr th:only-of-type {\n",
              "        vertical-align: middle;\n",
              "    }\n",
              "\n",
              "    .dataframe tbody tr th {\n",
              "        vertical-align: top;\n",
              "    }\n",
              "\n",
              "    .dataframe thead th {\n",
              "        text-align: right;\n",
              "    }\n",
              "</style>\n",
              "<table border=\"1\" class=\"dataframe\">\n",
              "  <thead>\n",
              "    <tr style=\"text-align: right;\">\n",
              "      <th></th>\n",
              "      <th>0</th>\n",
              "    </tr>\n",
              "  </thead>\n",
              "  <tbody>\n",
              "    <tr>\n",
              "      <th>geoAreaCode</th>\n",
              "      <td>0</td>\n",
              "    </tr>\n",
              "    <tr>\n",
              "      <th>geoAreaName</th>\n",
              "      <td>0</td>\n",
              "    </tr>\n",
              "    <tr>\n",
              "      <th>goal1</th>\n",
              "      <td>0</td>\n",
              "    </tr>\n",
              "    <tr>\n",
              "      <th>goal2</th>\n",
              "      <td>0</td>\n",
              "    </tr>\n",
              "    <tr>\n",
              "      <th>goal3</th>\n",
              "      <td>0</td>\n",
              "    </tr>\n",
              "    <tr>\n",
              "      <th>goal4</th>\n",
              "      <td>0</td>\n",
              "    </tr>\n",
              "    <tr>\n",
              "      <th>goal5</th>\n",
              "      <td>0</td>\n",
              "    </tr>\n",
              "    <tr>\n",
              "      <th>goal6</th>\n",
              "      <td>0</td>\n",
              "    </tr>\n",
              "    <tr>\n",
              "      <th>goal7</th>\n",
              "      <td>0</td>\n",
              "    </tr>\n",
              "    <tr>\n",
              "      <th>goal8</th>\n",
              "      <td>0</td>\n",
              "    </tr>\n",
              "    <tr>\n",
              "      <th>goal9</th>\n",
              "      <td>0</td>\n",
              "    </tr>\n",
              "    <tr>\n",
              "      <th>goal10</th>\n",
              "      <td>0</td>\n",
              "    </tr>\n",
              "    <tr>\n",
              "      <th>goal11</th>\n",
              "      <td>0</td>\n",
              "    </tr>\n",
              "    <tr>\n",
              "      <th>goal12</th>\n",
              "      <td>0</td>\n",
              "    </tr>\n",
              "    <tr>\n",
              "      <th>goal13</th>\n",
              "      <td>0</td>\n",
              "    </tr>\n",
              "    <tr>\n",
              "      <th>goal14</th>\n",
              "      <td>0</td>\n",
              "    </tr>\n",
              "    <tr>\n",
              "      <th>goal15</th>\n",
              "      <td>0</td>\n",
              "    </tr>\n",
              "    <tr>\n",
              "      <th>goal16</th>\n",
              "      <td>0</td>\n",
              "    </tr>\n",
              "    <tr>\n",
              "      <th>goal17</th>\n",
              "      <td>0</td>\n",
              "    </tr>\n",
              "  </tbody>\n",
              "</table>\n",
              "</div><br><label><b>dtype:</b> int64</label>"
            ]
          },
          "metadata": {},
          "execution_count": 31
        }
      ]
    },
    {
      "cell_type": "code",
      "source": [
        "import matplotlib.pyplot as plt\n",
        "import pandas as pd\n",
        "\n",
        "#Carga de datos de una URL\n",
        "url = \"https://raw.githubusercontent.com/juliandariogiraldoocampo/datosEsp/main/CountryWiseGoal.csv\"\n",
        "\n",
        "#Mostrar las primeras filas del DF\n",
        "df = pd.read_csv(url)\n",
        "\n",
        "colombia = df[df[\"geoAreaName\"] == \"Colombia\"].iloc[0,2:]   # 0 = Columna ene este caso # 2: = Fila de ahi en adelante\n",
        "colombia\n",
        "\n",
        "#colombia = df[df[\"geoAreaName\"] == \"Colombia\"].iloc[:, 1:7]"
      ],
      "metadata": {
        "colab": {
          "base_uri": "https://localhost:8080/",
          "height": 680
        },
        "id": "FgaECXJVULXt",
        "outputId": "cc2555c4-6630-45f2-a3d6-dbe82763bfe9"
      },
      "execution_count": null,
      "outputs": [
        {
          "output_type": "execute_result",
          "data": {
            "text/plain": [
              "geoAreaCode         170\n",
              "geoAreaName    Colombia\n",
              "goal1             59.74\n",
              "goal2             78.13\n",
              "goal3             75.38\n",
              "goal4             55.95\n",
              "goal5             31.94\n",
              "goal6             75.13\n",
              "goal7               100\n",
              "goal8             72.92\n",
              "goal9             85.94\n",
              "goal10            56.67\n",
              "goal11            33.89\n",
              "goal12            38.53\n",
              "goal13            16.67\n",
              "goal14            53.33\n",
              "goal15            47.38\n",
              "goal16            23.66\n",
              "goal17            59.86\n",
              "Name: 36, dtype: object"
            ],
            "text/html": [
              "<div>\n",
              "<style scoped>\n",
              "    .dataframe tbody tr th:only-of-type {\n",
              "        vertical-align: middle;\n",
              "    }\n",
              "\n",
              "    .dataframe tbody tr th {\n",
              "        vertical-align: top;\n",
              "    }\n",
              "\n",
              "    .dataframe thead th {\n",
              "        text-align: right;\n",
              "    }\n",
              "</style>\n",
              "<table border=\"1\" class=\"dataframe\">\n",
              "  <thead>\n",
              "    <tr style=\"text-align: right;\">\n",
              "      <th></th>\n",
              "      <th>36</th>\n",
              "    </tr>\n",
              "  </thead>\n",
              "  <tbody>\n",
              "    <tr>\n",
              "      <th>geoAreaCode</th>\n",
              "      <td>170</td>\n",
              "    </tr>\n",
              "    <tr>\n",
              "      <th>geoAreaName</th>\n",
              "      <td>Colombia</td>\n",
              "    </tr>\n",
              "    <tr>\n",
              "      <th>goal1</th>\n",
              "      <td>59.74</td>\n",
              "    </tr>\n",
              "    <tr>\n",
              "      <th>goal2</th>\n",
              "      <td>78.13</td>\n",
              "    </tr>\n",
              "    <tr>\n",
              "      <th>goal3</th>\n",
              "      <td>75.38</td>\n",
              "    </tr>\n",
              "    <tr>\n",
              "      <th>goal4</th>\n",
              "      <td>55.95</td>\n",
              "    </tr>\n",
              "    <tr>\n",
              "      <th>goal5</th>\n",
              "      <td>31.94</td>\n",
              "    </tr>\n",
              "    <tr>\n",
              "      <th>goal6</th>\n",
              "      <td>75.13</td>\n",
              "    </tr>\n",
              "    <tr>\n",
              "      <th>goal7</th>\n",
              "      <td>100</td>\n",
              "    </tr>\n",
              "    <tr>\n",
              "      <th>goal8</th>\n",
              "      <td>72.92</td>\n",
              "    </tr>\n",
              "    <tr>\n",
              "      <th>goal9</th>\n",
              "      <td>85.94</td>\n",
              "    </tr>\n",
              "    <tr>\n",
              "      <th>goal10</th>\n",
              "      <td>56.67</td>\n",
              "    </tr>\n",
              "    <tr>\n",
              "      <th>goal11</th>\n",
              "      <td>33.89</td>\n",
              "    </tr>\n",
              "    <tr>\n",
              "      <th>goal12</th>\n",
              "      <td>38.53</td>\n",
              "    </tr>\n",
              "    <tr>\n",
              "      <th>goal13</th>\n",
              "      <td>16.67</td>\n",
              "    </tr>\n",
              "    <tr>\n",
              "      <th>goal14</th>\n",
              "      <td>53.33</td>\n",
              "    </tr>\n",
              "    <tr>\n",
              "      <th>goal15</th>\n",
              "      <td>47.38</td>\n",
              "    </tr>\n",
              "    <tr>\n",
              "      <th>goal16</th>\n",
              "      <td>23.66</td>\n",
              "    </tr>\n",
              "    <tr>\n",
              "      <th>goal17</th>\n",
              "      <td>59.86</td>\n",
              "    </tr>\n",
              "  </tbody>\n",
              "</table>\n",
              "</div><br><label><b>dtype:</b> object</label>"
            ]
          },
          "metadata": {},
          "execution_count": 36
        }
      ]
    },
    {
      "cell_type": "code",
      "source": [
        "import matplotlib.pyplot as plt\n",
        "import pandas as pd\n",
        "\n",
        "#Carga de datos de una URL\n",
        "url = \"https://raw.githubusercontent.com/juliandariogiraldoocampo/datosEsp/main/CountryWiseGoal.csv\"\n",
        "\n",
        "#Mostrar las primeras filas del DF\n",
        "df = pd.read_csv(url)\n",
        "\n",
        "colombia = df[df[\"geoAreaName\"] == \"Colombia\"].iloc[0,2:]\n",
        "plt.figure(figsize = (10, 3))\n",
        "colombia.plot(kind = \"bar\", color = \"#E2E2E2\")\n",
        "plt.title(\"Distribucion de Objetivos para Colombia\")\n",
        "plt.xlabel(\"Objetivos\")\n",
        "plt.ylabel(\"Valor\")\n",
        "plt.xticks(rotation = 45)\n",
        "plt.show()"
      ],
      "metadata": {
        "colab": {
          "base_uri": "https://localhost:8080/",
          "height": 363
        },
        "id": "x6c9WPFsZqOP",
        "outputId": "2b86a1af-df2a-4048-f381-1ec7d61b4242"
      },
      "execution_count": null,
      "outputs": [
        {
          "output_type": "display_data",
          "data": {
            "text/plain": [
              "<Figure size 1000x300 with 1 Axes>"
            ],
            "image/png": "[encoded data removed]"
          },
          "metadata": {}
        }
      ]
    },
    {
      "cell_type": "code",
      "source": [
        "import matplotlib.pyplot as plt\n",
        "import pandas as pd\n",
        "\n",
        "url = \"https://raw.githubusercontent.com/juliandariogiraldoocampo/datosEsp/main/CountryWiseGoal.csv\"\n",
        "df = pd.read_csv(url)\n",
        "\n",
        "objetivo = df[[\"geoAreaName\",\"goal16\"]]\n",
        "df_ordenado = objetivo.sort_values(by = \"goal16\", ascending = False).head(10)\n",
        "\n",
        "plt.figure(figsize = (12, 8))\n",
        "plt.barh(df_ordenado[\"geoAreaName\"], df_ordenado[\"goal16\"], color = \"lightblue\")\n",
        "plt.title(\"top 10 paises en el objetivo 16 - Paz, justicia e Instituciones Solidas\")\n",
        "plt.xlabel(\"Valor del Objetivo\")\n",
        "plt.ylabel(\"Pais\")\n",
        "plt.gca().invert_yaxis()\n",
        "plt.show()"
      ],
      "metadata": {
        "colab": {
          "base_uri": "https://localhost:8080/",
          "height": 718
        },
        "id": "WjxniEIocKwg",
        "outputId": "5730b8ad-0c3f-48d2-890a-0a953a28c9d8"
      },
      "execution_count": null,
      "outputs": [
        {
          "output_type": "display_data",
          "data": {
            "text/plain": [
              "<Figure size 1200x800 with 1 Axes>"
            ],
            "image/png": "[encoded data removed]"
          },
          "metadata": {}
        }
      ]
    },
    {
      "cell_type": "code",
      "source": [
        "import seaborn as sns\n",
        "import matplotlib.pyplot as plt\n",
        "import pandas as pd\n",
        "\n",
        "url = \"https://raw.githubusercontent.com/juliandariogiraldoocampo/datosEsp/main/CountryWiseGoal.csv\"\n",
        "df = pd.read_csv(url)\n",
        "\n",
        "df_goal_values = df.iloc[:, 2:]\n",
        "matriz_correlacion = df_goal_values.corr()\n",
        "\n",
        "plt.figure(figsize = (12, 10))\n",
        "sns.heatmap(matriz_correlacion, annot = True, cmap = \"coolwarm\", fmt = \".2f\", linewidths = 0.5)\n",
        "plt.title(\"Matriz de Correlacion entre Objetivos\")\n",
        "plt.show()"
      ],
      "metadata": {
        "colab": {
          "base_uri": "https://localhost:8080/",
          "height": 886
        },
        "id": "q9CT-0M3gsIP",
        "outputId": "2886a787-4e92-4332-8be5-37347df54d06"
      },
      "execution_count": null,
      "outputs": [
        {
          "output_type": "display_data",
          "data": {
            "text/plain": [
              "<Figure size 1200x1000 with 2 Axes>"
            ],
            "image/png": "[encoded data removed]"
          },
          "metadata": {}
        }
      ]
    },
    {
      "cell_type": "code",
      "source": [],
      "metadata": {
        "id": "aCqL67qK9aOM"
      },
      "execution_count": null,
      "outputs": []
    },
    {
      "cell_type": "markdown",
      "source": [],
      "metadata": {
        "id": "nYpM9FnH42w4"
      }
    }
  ]
}